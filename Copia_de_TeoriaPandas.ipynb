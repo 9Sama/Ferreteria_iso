{
  "nbformat": 4,
  "nbformat_minor": 0,
  "metadata": {
    "colab": {
      "provenance": [],
      "include_colab_link": true
    },
    "kernelspec": {
      "name": "python3",
      "display_name": "Python 3"
    },
    "language_info": {
      "name": "python"
    }
  },
  "cells": [
    {
      "cell_type": "markdown",
      "metadata": {
        "id": "view-in-github",
        "colab_type": "text"
      },
      "source": [
        "<a href=\"https://colab.research.google.com/github/9Sama/Ferreteria_iso/blob/main/Copia_de_TeoriaPandas.ipynb\" target=\"_parent\"><img src=\"https://colab.research.google.com/assets/colab-badge.svg\" alt=\"Open In Colab\"/></a>"
      ]
    },
    {
      "cell_type": "markdown",
      "source": [
        "**Creacion de DataFrames**"
      ],
      "metadata": {
        "id": "oWIPGG5eaolh"
      }
    },
    {
      "cell_type": "code",
      "source": [
        "import pandas as pd\n",
        "\n",
        "# Crear un DataFrame desde listas\n",
        "data_lista = [['Alice', 25], ['Bob', 30], ['Charlie', 35]]\n",
        "columnas_lista = ['Nombre', 'Edad']\n",
        "df_lista = pd.DataFrame(data_lista, columns=columnas_lista)\n",
        "df_lista"
      ],
      "metadata": {
        "colab": {
          "base_uri": "https://localhost:8080/",
          "height": 143
        },
        "id": "sPlX7pEGanMI",
        "outputId": "3fbe547a-e015-4f87-ba92-15c8c7706b1a"
      },
      "execution_count": null,
      "outputs": [
        {
          "output_type": "execute_result",
          "data": {
            "text/plain": [
              "    Nombre  Edad\n",
              "0    Alice    25\n",
              "1      Bob    30\n",
              "2  Charlie    35"
            ],
            "text/html": [
              "\n",
              "  <div id=\"df-f219dbb0-6ff4-4b87-8813-1e3ff2b7359f\" class=\"colab-df-container\">\n",
              "    <div>\n",
              "<style scoped>\n",
              "    .dataframe tbody tr th:only-of-type {\n",
              "        vertical-align: middle;\n",
              "    }\n",
              "\n",
              "    .dataframe tbody tr th {\n",
              "        vertical-align: top;\n",
              "    }\n",
              "\n",
              "    .dataframe thead th {\n",
              "        text-align: right;\n",
              "    }\n",
              "</style>\n",
              "<table border=\"1\" class=\"dataframe\">\n",
              "  <thead>\n",
              "    <tr style=\"text-align: right;\">\n",
              "      <th></th>\n",
              "      <th>Nombre</th>\n",
              "      <th>Edad</th>\n",
              "    </tr>\n",
              "  </thead>\n",
              "  <tbody>\n",
              "    <tr>\n",
              "      <th>0</th>\n",
              "      <td>Alice</td>\n",
              "      <td>25</td>\n",
              "    </tr>\n",
              "    <tr>\n",
              "      <th>1</th>\n",
              "      <td>Bob</td>\n",
              "      <td>30</td>\n",
              "    </tr>\n",
              "    <tr>\n",
              "      <th>2</th>\n",
              "      <td>Charlie</td>\n",
              "      <td>35</td>\n",
              "    </tr>\n",
              "  </tbody>\n",
              "</table>\n",
              "</div>\n",
              "    <div class=\"colab-df-buttons\">\n",
              "\n",
              "  <div class=\"colab-df-container\">\n",
              "    <button class=\"colab-df-convert\" onclick=\"convertToInteractive('df-f219dbb0-6ff4-4b87-8813-1e3ff2b7359f')\"\n",
              "            title=\"Convert this dataframe to an interactive table.\"\n",
              "            style=\"display:none;\">\n",
              "\n",
              "  <svg xmlns=\"http://www.w3.org/2000/svg\" height=\"24px\" viewBox=\"0 -960 960 960\">\n",
              "    <path d=\"M120-120v-720h720v720H120Zm60-500h600v-160H180v160Zm220 220h160v-160H400v160Zm0 220h160v-160H400v160ZM180-400h160v-160H180v160Zm440 0h160v-160H620v160ZM180-180h160v-160H180v160Zm440 0h160v-160H620v160Z\"/>\n",
              "  </svg>\n",
              "    </button>\n",
              "\n",
              "  <style>\n",
              "    .colab-df-container {\n",
              "      display:flex;\n",
              "      gap: 12px;\n",
              "    }\n",
              "\n",
              "    .colab-df-convert {\n",
              "      background-color: #E8F0FE;\n",
              "      border: none;\n",
              "      border-radius: 50%;\n",
              "      cursor: pointer;\n",
              "      display: none;\n",
              "      fill: #1967D2;\n",
              "      height: 32px;\n",
              "      padding: 0 0 0 0;\n",
              "      width: 32px;\n",
              "    }\n",
              "\n",
              "    .colab-df-convert:hover {\n",
              "      background-color: #E2EBFA;\n",
              "      box-shadow: 0px 1px 2px rgba(60, 64, 67, 0.3), 0px 1px 3px 1px rgba(60, 64, 67, 0.15);\n",
              "      fill: #174EA6;\n",
              "    }\n",
              "\n",
              "    .colab-df-buttons div {\n",
              "      margin-bottom: 4px;\n",
              "    }\n",
              "\n",
              "    [theme=dark] .colab-df-convert {\n",
              "      background-color: #3B4455;\n",
              "      fill: #D2E3FC;\n",
              "    }\n",
              "\n",
              "    [theme=dark] .colab-df-convert:hover {\n",
              "      background-color: #434B5C;\n",
              "      box-shadow: 0px 1px 3px 1px rgba(0, 0, 0, 0.15);\n",
              "      filter: drop-shadow(0px 1px 2px rgba(0, 0, 0, 0.3));\n",
              "      fill: #FFFFFF;\n",
              "    }\n",
              "  </style>\n",
              "\n",
              "    <script>\n",
              "      const buttonEl =\n",
              "        document.querySelector('#df-f219dbb0-6ff4-4b87-8813-1e3ff2b7359f button.colab-df-convert');\n",
              "      buttonEl.style.display =\n",
              "        google.colab.kernel.accessAllowed ? 'block' : 'none';\n",
              "\n",
              "      async function convertToInteractive(key) {\n",
              "        const element = document.querySelector('#df-f219dbb0-6ff4-4b87-8813-1e3ff2b7359f');\n",
              "        const dataTable =\n",
              "          await google.colab.kernel.invokeFunction('convertToInteractive',\n",
              "                                                    [key], {});\n",
              "        if (!dataTable) return;\n",
              "\n",
              "        const docLinkHtml = 'Like what you see? Visit the ' +\n",
              "          '<a target=\"_blank\" href=https://colab.research.google.com/notebooks/data_table.ipynb>data table notebook</a>'\n",
              "          + ' to learn more about interactive tables.';\n",
              "        element.innerHTML = '';\n",
              "        dataTable['output_type'] = 'display_data';\n",
              "        await google.colab.output.renderOutput(dataTable, element);\n",
              "        const docLink = document.createElement('div');\n",
              "        docLink.innerHTML = docLinkHtml;\n",
              "        element.appendChild(docLink);\n",
              "      }\n",
              "    </script>\n",
              "  </div>\n",
              "\n",
              "\n",
              "<div id=\"df-f3877770-ed6b-4bac-973e-8f2063505c2b\">\n",
              "  <button class=\"colab-df-quickchart\" onclick=\"quickchart('df-f3877770-ed6b-4bac-973e-8f2063505c2b')\"\n",
              "            title=\"Suggest charts\"\n",
              "            style=\"display:none;\">\n",
              "\n",
              "<svg xmlns=\"http://www.w3.org/2000/svg\" height=\"24px\"viewBox=\"0 0 24 24\"\n",
              "     width=\"24px\">\n",
              "    <g>\n",
              "        <path d=\"M19 3H5c-1.1 0-2 .9-2 2v14c0 1.1.9 2 2 2h14c1.1 0 2-.9 2-2V5c0-1.1-.9-2-2-2zM9 17H7v-7h2v7zm4 0h-2V7h2v10zm4 0h-2v-4h2v4z\"/>\n",
              "    </g>\n",
              "</svg>\n",
              "  </button>\n",
              "\n",
              "<style>\n",
              "  .colab-df-quickchart {\n",
              "      --bg-color: #E8F0FE;\n",
              "      --fill-color: #1967D2;\n",
              "      --hover-bg-color: #E2EBFA;\n",
              "      --hover-fill-color: #174EA6;\n",
              "      --disabled-fill-color: #AAA;\n",
              "      --disabled-bg-color: #DDD;\n",
              "  }\n",
              "\n",
              "  [theme=dark] .colab-df-quickchart {\n",
              "      --bg-color: #3B4455;\n",
              "      --fill-color: #D2E3FC;\n",
              "      --hover-bg-color: #434B5C;\n",
              "      --hover-fill-color: #FFFFFF;\n",
              "      --disabled-bg-color: #3B4455;\n",
              "      --disabled-fill-color: #666;\n",
              "  }\n",
              "\n",
              "  .colab-df-quickchart {\n",
              "    background-color: var(--bg-color);\n",
              "    border: none;\n",
              "    border-radius: 50%;\n",
              "    cursor: pointer;\n",
              "    display: none;\n",
              "    fill: var(--fill-color);\n",
              "    height: 32px;\n",
              "    padding: 0;\n",
              "    width: 32px;\n",
              "  }\n",
              "\n",
              "  .colab-df-quickchart:hover {\n",
              "    background-color: var(--hover-bg-color);\n",
              "    box-shadow: 0 1px 2px rgba(60, 64, 67, 0.3), 0 1px 3px 1px rgba(60, 64, 67, 0.15);\n",
              "    fill: var(--button-hover-fill-color);\n",
              "  }\n",
              "\n",
              "  .colab-df-quickchart-complete:disabled,\n",
              "  .colab-df-quickchart-complete:disabled:hover {\n",
              "    background-color: var(--disabled-bg-color);\n",
              "    fill: var(--disabled-fill-color);\n",
              "    box-shadow: none;\n",
              "  }\n",
              "\n",
              "  .colab-df-spinner {\n",
              "    border: 2px solid var(--fill-color);\n",
              "    border-color: transparent;\n",
              "    border-bottom-color: var(--fill-color);\n",
              "    animation:\n",
              "      spin 1s steps(1) infinite;\n",
              "  }\n",
              "\n",
              "  @keyframes spin {\n",
              "    0% {\n",
              "      border-color: transparent;\n",
              "      border-bottom-color: var(--fill-color);\n",
              "      border-left-color: var(--fill-color);\n",
              "    }\n",
              "    20% {\n",
              "      border-color: transparent;\n",
              "      border-left-color: var(--fill-color);\n",
              "      border-top-color: var(--fill-color);\n",
              "    }\n",
              "    30% {\n",
              "      border-color: transparent;\n",
              "      border-left-color: var(--fill-color);\n",
              "      border-top-color: var(--fill-color);\n",
              "      border-right-color: var(--fill-color);\n",
              "    }\n",
              "    40% {\n",
              "      border-color: transparent;\n",
              "      border-right-color: var(--fill-color);\n",
              "      border-top-color: var(--fill-color);\n",
              "    }\n",
              "    60% {\n",
              "      border-color: transparent;\n",
              "      border-right-color: var(--fill-color);\n",
              "    }\n",
              "    80% {\n",
              "      border-color: transparent;\n",
              "      border-right-color: var(--fill-color);\n",
              "      border-bottom-color: var(--fill-color);\n",
              "    }\n",
              "    90% {\n",
              "      border-color: transparent;\n",
              "      border-bottom-color: var(--fill-color);\n",
              "    }\n",
              "  }\n",
              "</style>\n",
              "\n",
              "  <script>\n",
              "    async function quickchart(key) {\n",
              "      const quickchartButtonEl =\n",
              "        document.querySelector('#' + key + ' button');\n",
              "      quickchartButtonEl.disabled = true;  // To prevent multiple clicks.\n",
              "      quickchartButtonEl.classList.add('colab-df-spinner');\n",
              "      try {\n",
              "        const charts = await google.colab.kernel.invokeFunction(\n",
              "            'suggestCharts', [key], {});\n",
              "      } catch (error) {\n",
              "        console.error('Error during call to suggestCharts:', error);\n",
              "      }\n",
              "      quickchartButtonEl.classList.remove('colab-df-spinner');\n",
              "      quickchartButtonEl.classList.add('colab-df-quickchart-complete');\n",
              "    }\n",
              "    (() => {\n",
              "      let quickchartButtonEl =\n",
              "        document.querySelector('#df-f3877770-ed6b-4bac-973e-8f2063505c2b button');\n",
              "      quickchartButtonEl.style.display =\n",
              "        google.colab.kernel.accessAllowed ? 'block' : 'none';\n",
              "    })();\n",
              "  </script>\n",
              "</div>\n",
              "    </div>\n",
              "  </div>\n"
            ]
          },
          "metadata": {},
          "execution_count": 85
        }
      ]
    },
    {
      "cell_type": "code",
      "source": [
        "# Crear un DataFrame desde un diccionario\n",
        "data_dict = {'Nombre': ['Alice', 'Bob', 'Charlie'],\n",
        "             'Edad': [25, 30, 35]}\n",
        "df_dict = pd.DataFrame(data_dict)\n",
        "df_dict"
      ],
      "metadata": {
        "colab": {
          "base_uri": "https://localhost:8080/",
          "height": 143
        },
        "id": "XOLscFvHbCaF",
        "outputId": "c410f670-693b-403c-b7b5-38b3a043b8cd"
      },
      "execution_count": null,
      "outputs": [
        {
          "output_type": "execute_result",
          "data": {
            "text/plain": [
              "    Nombre  Edad\n",
              "0    Alice    25\n",
              "1      Bob    30\n",
              "2  Charlie    35"
            ],
            "text/html": [
              "\n",
              "  <div id=\"df-a159a882-8359-41ac-b307-1f383bc831d3\" class=\"colab-df-container\">\n",
              "    <div>\n",
              "<style scoped>\n",
              "    .dataframe tbody tr th:only-of-type {\n",
              "        vertical-align: middle;\n",
              "    }\n",
              "\n",
              "    .dataframe tbody tr th {\n",
              "        vertical-align: top;\n",
              "    }\n",
              "\n",
              "    .dataframe thead th {\n",
              "        text-align: right;\n",
              "    }\n",
              "</style>\n",
              "<table border=\"1\" class=\"dataframe\">\n",
              "  <thead>\n",
              "    <tr style=\"text-align: right;\">\n",
              "      <th></th>\n",
              "      <th>Nombre</th>\n",
              "      <th>Edad</th>\n",
              "    </tr>\n",
              "  </thead>\n",
              "  <tbody>\n",
              "    <tr>\n",
              "      <th>0</th>\n",
              "      <td>Alice</td>\n",
              "      <td>25</td>\n",
              "    </tr>\n",
              "    <tr>\n",
              "      <th>1</th>\n",
              "      <td>Bob</td>\n",
              "      <td>30</td>\n",
              "    </tr>\n",
              "    <tr>\n",
              "      <th>2</th>\n",
              "      <td>Charlie</td>\n",
              "      <td>35</td>\n",
              "    </tr>\n",
              "  </tbody>\n",
              "</table>\n",
              "</div>\n",
              "    <div class=\"colab-df-buttons\">\n",
              "\n",
              "  <div class=\"colab-df-container\">\n",
              "    <button class=\"colab-df-convert\" onclick=\"convertToInteractive('df-a159a882-8359-41ac-b307-1f383bc831d3')\"\n",
              "            title=\"Convert this dataframe to an interactive table.\"\n",
              "            style=\"display:none;\">\n",
              "\n",
              "  <svg xmlns=\"http://www.w3.org/2000/svg\" height=\"24px\" viewBox=\"0 -960 960 960\">\n",
              "    <path d=\"M120-120v-720h720v720H120Zm60-500h600v-160H180v160Zm220 220h160v-160H400v160Zm0 220h160v-160H400v160ZM180-400h160v-160H180v160Zm440 0h160v-160H620v160ZM180-180h160v-160H180v160Zm440 0h160v-160H620v160Z\"/>\n",
              "  </svg>\n",
              "    </button>\n",
              "\n",
              "  <style>\n",
              "    .colab-df-container {\n",
              "      display:flex;\n",
              "      gap: 12px;\n",
              "    }\n",
              "\n",
              "    .colab-df-convert {\n",
              "      background-color: #E8F0FE;\n",
              "      border: none;\n",
              "      border-radius: 50%;\n",
              "      cursor: pointer;\n",
              "      display: none;\n",
              "      fill: #1967D2;\n",
              "      height: 32px;\n",
              "      padding: 0 0 0 0;\n",
              "      width: 32px;\n",
              "    }\n",
              "\n",
              "    .colab-df-convert:hover {\n",
              "      background-color: #E2EBFA;\n",
              "      box-shadow: 0px 1px 2px rgba(60, 64, 67, 0.3), 0px 1px 3px 1px rgba(60, 64, 67, 0.15);\n",
              "      fill: #174EA6;\n",
              "    }\n",
              "\n",
              "    .colab-df-buttons div {\n",
              "      margin-bottom: 4px;\n",
              "    }\n",
              "\n",
              "    [theme=dark] .colab-df-convert {\n",
              "      background-color: #3B4455;\n",
              "      fill: #D2E3FC;\n",
              "    }\n",
              "\n",
              "    [theme=dark] .colab-df-convert:hover {\n",
              "      background-color: #434B5C;\n",
              "      box-shadow: 0px 1px 3px 1px rgba(0, 0, 0, 0.15);\n",
              "      filter: drop-shadow(0px 1px 2px rgba(0, 0, 0, 0.3));\n",
              "      fill: #FFFFFF;\n",
              "    }\n",
              "  </style>\n",
              "\n",
              "    <script>\n",
              "      const buttonEl =\n",
              "        document.querySelector('#df-a159a882-8359-41ac-b307-1f383bc831d3 button.colab-df-convert');\n",
              "      buttonEl.style.display =\n",
              "        google.colab.kernel.accessAllowed ? 'block' : 'none';\n",
              "\n",
              "      async function convertToInteractive(key) {\n",
              "        const element = document.querySelector('#df-a159a882-8359-41ac-b307-1f383bc831d3');\n",
              "        const dataTable =\n",
              "          await google.colab.kernel.invokeFunction('convertToInteractive',\n",
              "                                                    [key], {});\n",
              "        if (!dataTable) return;\n",
              "\n",
              "        const docLinkHtml = 'Like what you see? Visit the ' +\n",
              "          '<a target=\"_blank\" href=https://colab.research.google.com/notebooks/data_table.ipynb>data table notebook</a>'\n",
              "          + ' to learn more about interactive tables.';\n",
              "        element.innerHTML = '';\n",
              "        dataTable['output_type'] = 'display_data';\n",
              "        await google.colab.output.renderOutput(dataTable, element);\n",
              "        const docLink = document.createElement('div');\n",
              "        docLink.innerHTML = docLinkHtml;\n",
              "        element.appendChild(docLink);\n",
              "      }\n",
              "    </script>\n",
              "  </div>\n",
              "\n",
              "\n",
              "<div id=\"df-a591c06c-82ee-415e-9ecc-8d703d8210fa\">\n",
              "  <button class=\"colab-df-quickchart\" onclick=\"quickchart('df-a591c06c-82ee-415e-9ecc-8d703d8210fa')\"\n",
              "            title=\"Suggest charts\"\n",
              "            style=\"display:none;\">\n",
              "\n",
              "<svg xmlns=\"http://www.w3.org/2000/svg\" height=\"24px\"viewBox=\"0 0 24 24\"\n",
              "     width=\"24px\">\n",
              "    <g>\n",
              "        <path d=\"M19 3H5c-1.1 0-2 .9-2 2v14c0 1.1.9 2 2 2h14c1.1 0 2-.9 2-2V5c0-1.1-.9-2-2-2zM9 17H7v-7h2v7zm4 0h-2V7h2v10zm4 0h-2v-4h2v4z\"/>\n",
              "    </g>\n",
              "</svg>\n",
              "  </button>\n",
              "\n",
              "<style>\n",
              "  .colab-df-quickchart {\n",
              "      --bg-color: #E8F0FE;\n",
              "      --fill-color: #1967D2;\n",
              "      --hover-bg-color: #E2EBFA;\n",
              "      --hover-fill-color: #174EA6;\n",
              "      --disabled-fill-color: #AAA;\n",
              "      --disabled-bg-color: #DDD;\n",
              "  }\n",
              "\n",
              "  [theme=dark] .colab-df-quickchart {\n",
              "      --bg-color: #3B4455;\n",
              "      --fill-color: #D2E3FC;\n",
              "      --hover-bg-color: #434B5C;\n",
              "      --hover-fill-color: #FFFFFF;\n",
              "      --disabled-bg-color: #3B4455;\n",
              "      --disabled-fill-color: #666;\n",
              "  }\n",
              "\n",
              "  .colab-df-quickchart {\n",
              "    background-color: var(--bg-color);\n",
              "    border: none;\n",
              "    border-radius: 50%;\n",
              "    cursor: pointer;\n",
              "    display: none;\n",
              "    fill: var(--fill-color);\n",
              "    height: 32px;\n",
              "    padding: 0;\n",
              "    width: 32px;\n",
              "  }\n",
              "\n",
              "  .colab-df-quickchart:hover {\n",
              "    background-color: var(--hover-bg-color);\n",
              "    box-shadow: 0 1px 2px rgba(60, 64, 67, 0.3), 0 1px 3px 1px rgba(60, 64, 67, 0.15);\n",
              "    fill: var(--button-hover-fill-color);\n",
              "  }\n",
              "\n",
              "  .colab-df-quickchart-complete:disabled,\n",
              "  .colab-df-quickchart-complete:disabled:hover {\n",
              "    background-color: var(--disabled-bg-color);\n",
              "    fill: var(--disabled-fill-color);\n",
              "    box-shadow: none;\n",
              "  }\n",
              "\n",
              "  .colab-df-spinner {\n",
              "    border: 2px solid var(--fill-color);\n",
              "    border-color: transparent;\n",
              "    border-bottom-color: var(--fill-color);\n",
              "    animation:\n",
              "      spin 1s steps(1) infinite;\n",
              "  }\n",
              "\n",
              "  @keyframes spin {\n",
              "    0% {\n",
              "      border-color: transparent;\n",
              "      border-bottom-color: var(--fill-color);\n",
              "      border-left-color: var(--fill-color);\n",
              "    }\n",
              "    20% {\n",
              "      border-color: transparent;\n",
              "      border-left-color: var(--fill-color);\n",
              "      border-top-color: var(--fill-color);\n",
              "    }\n",
              "    30% {\n",
              "      border-color: transparent;\n",
              "      border-left-color: var(--fill-color);\n",
              "      border-top-color: var(--fill-color);\n",
              "      border-right-color: var(--fill-color);\n",
              "    }\n",
              "    40% {\n",
              "      border-color: transparent;\n",
              "      border-right-color: var(--fill-color);\n",
              "      border-top-color: var(--fill-color);\n",
              "    }\n",
              "    60% {\n",
              "      border-color: transparent;\n",
              "      border-right-color: var(--fill-color);\n",
              "    }\n",
              "    80% {\n",
              "      border-color: transparent;\n",
              "      border-right-color: var(--fill-color);\n",
              "      border-bottom-color: var(--fill-color);\n",
              "    }\n",
              "    90% {\n",
              "      border-color: transparent;\n",
              "      border-bottom-color: var(--fill-color);\n",
              "    }\n",
              "  }\n",
              "</style>\n",
              "\n",
              "  <script>\n",
              "    async function quickchart(key) {\n",
              "      const quickchartButtonEl =\n",
              "        document.querySelector('#' + key + ' button');\n",
              "      quickchartButtonEl.disabled = true;  // To prevent multiple clicks.\n",
              "      quickchartButtonEl.classList.add('colab-df-spinner');\n",
              "      try {\n",
              "        const charts = await google.colab.kernel.invokeFunction(\n",
              "            'suggestCharts', [key], {});\n",
              "      } catch (error) {\n",
              "        console.error('Error during call to suggestCharts:', error);\n",
              "      }\n",
              "      quickchartButtonEl.classList.remove('colab-df-spinner');\n",
              "      quickchartButtonEl.classList.add('colab-df-quickchart-complete');\n",
              "    }\n",
              "    (() => {\n",
              "      let quickchartButtonEl =\n",
              "        document.querySelector('#df-a591c06c-82ee-415e-9ecc-8d703d8210fa button');\n",
              "      quickchartButtonEl.style.display =\n",
              "        google.colab.kernel.accessAllowed ? 'block' : 'none';\n",
              "    })();\n",
              "  </script>\n",
              "</div>\n",
              "    </div>\n",
              "  </div>\n"
            ]
          },
          "metadata": {},
          "execution_count": 86
        }
      ]
    },
    {
      "cell_type": "code",
      "source": [
        "import numpy as np\n",
        "import pandas as pd\n",
        "\n",
        "# Crear un DataFrame desde un array de NumPy\n",
        "data_numpy = np.array([[1, 'Alice'], [2, 'Bob'], [3, 'Charlie']])\n",
        "columnas_numpy = ['ID', 'Nombre']\n",
        "df_numpy = pd.DataFrame(data_numpy, columns=columnas_numpy)\n",
        "df_numpy"
      ],
      "metadata": {
        "colab": {
          "base_uri": "https://localhost:8080/",
          "height": 143
        },
        "id": "07sRJkUrbQxU",
        "outputId": "adf23dfc-0d7b-4595-bb85-57f8ca58c54c"
      },
      "execution_count": null,
      "outputs": [
        {
          "output_type": "execute_result",
          "data": {
            "text/plain": [
              "  ID   Nombre\n",
              "0  1    Alice\n",
              "1  2      Bob\n",
              "2  3  Charlie"
            ],
            "text/html": [
              "\n",
              "  <div id=\"df-f84a6a95-0d32-4494-b208-6b85993648e7\" class=\"colab-df-container\">\n",
              "    <div>\n",
              "<style scoped>\n",
              "    .dataframe tbody tr th:only-of-type {\n",
              "        vertical-align: middle;\n",
              "    }\n",
              "\n",
              "    .dataframe tbody tr th {\n",
              "        vertical-align: top;\n",
              "    }\n",
              "\n",
              "    .dataframe thead th {\n",
              "        text-align: right;\n",
              "    }\n",
              "</style>\n",
              "<table border=\"1\" class=\"dataframe\">\n",
              "  <thead>\n",
              "    <tr style=\"text-align: right;\">\n",
              "      <th></th>\n",
              "      <th>ID</th>\n",
              "      <th>Nombre</th>\n",
              "    </tr>\n",
              "  </thead>\n",
              "  <tbody>\n",
              "    <tr>\n",
              "      <th>0</th>\n",
              "      <td>1</td>\n",
              "      <td>Alice</td>\n",
              "    </tr>\n",
              "    <tr>\n",
              "      <th>1</th>\n",
              "      <td>2</td>\n",
              "      <td>Bob</td>\n",
              "    </tr>\n",
              "    <tr>\n",
              "      <th>2</th>\n",
              "      <td>3</td>\n",
              "      <td>Charlie</td>\n",
              "    </tr>\n",
              "  </tbody>\n",
              "</table>\n",
              "</div>\n",
              "    <div class=\"colab-df-buttons\">\n",
              "\n",
              "  <div class=\"colab-df-container\">\n",
              "    <button class=\"colab-df-convert\" onclick=\"convertToInteractive('df-f84a6a95-0d32-4494-b208-6b85993648e7')\"\n",
              "            title=\"Convert this dataframe to an interactive table.\"\n",
              "            style=\"display:none;\">\n",
              "\n",
              "  <svg xmlns=\"http://www.w3.org/2000/svg\" height=\"24px\" viewBox=\"0 -960 960 960\">\n",
              "    <path d=\"M120-120v-720h720v720H120Zm60-500h600v-160H180v160Zm220 220h160v-160H400v160Zm0 220h160v-160H400v160ZM180-400h160v-160H180v160Zm440 0h160v-160H620v160ZM180-180h160v-160H180v160Zm440 0h160v-160H620v160Z\"/>\n",
              "  </svg>\n",
              "    </button>\n",
              "\n",
              "  <style>\n",
              "    .colab-df-container {\n",
              "      display:flex;\n",
              "      gap: 12px;\n",
              "    }\n",
              "\n",
              "    .colab-df-convert {\n",
              "      background-color: #E8F0FE;\n",
              "      border: none;\n",
              "      border-radius: 50%;\n",
              "      cursor: pointer;\n",
              "      display: none;\n",
              "      fill: #1967D2;\n",
              "      height: 32px;\n",
              "      padding: 0 0 0 0;\n",
              "      width: 32px;\n",
              "    }\n",
              "\n",
              "    .colab-df-convert:hover {\n",
              "      background-color: #E2EBFA;\n",
              "      box-shadow: 0px 1px 2px rgba(60, 64, 67, 0.3), 0px 1px 3px 1px rgba(60, 64, 67, 0.15);\n",
              "      fill: #174EA6;\n",
              "    }\n",
              "\n",
              "    .colab-df-buttons div {\n",
              "      margin-bottom: 4px;\n",
              "    }\n",
              "\n",
              "    [theme=dark] .colab-df-convert {\n",
              "      background-color: #3B4455;\n",
              "      fill: #D2E3FC;\n",
              "    }\n",
              "\n",
              "    [theme=dark] .colab-df-convert:hover {\n",
              "      background-color: #434B5C;\n",
              "      box-shadow: 0px 1px 3px 1px rgba(0, 0, 0, 0.15);\n",
              "      filter: drop-shadow(0px 1px 2px rgba(0, 0, 0, 0.3));\n",
              "      fill: #FFFFFF;\n",
              "    }\n",
              "  </style>\n",
              "\n",
              "    <script>\n",
              "      const buttonEl =\n",
              "        document.querySelector('#df-f84a6a95-0d32-4494-b208-6b85993648e7 button.colab-df-convert');\n",
              "      buttonEl.style.display =\n",
              "        google.colab.kernel.accessAllowed ? 'block' : 'none';\n",
              "\n",
              "      async function convertToInteractive(key) {\n",
              "        const element = document.querySelector('#df-f84a6a95-0d32-4494-b208-6b85993648e7');\n",
              "        const dataTable =\n",
              "          await google.colab.kernel.invokeFunction('convertToInteractive',\n",
              "                                                    [key], {});\n",
              "        if (!dataTable) return;\n",
              "\n",
              "        const docLinkHtml = 'Like what you see? Visit the ' +\n",
              "          '<a target=\"_blank\" href=https://colab.research.google.com/notebooks/data_table.ipynb>data table notebook</a>'\n",
              "          + ' to learn more about interactive tables.';\n",
              "        element.innerHTML = '';\n",
              "        dataTable['output_type'] = 'display_data';\n",
              "        await google.colab.output.renderOutput(dataTable, element);\n",
              "        const docLink = document.createElement('div');\n",
              "        docLink.innerHTML = docLinkHtml;\n",
              "        element.appendChild(docLink);\n",
              "      }\n",
              "    </script>\n",
              "  </div>\n",
              "\n",
              "\n",
              "<div id=\"df-bf60dc61-cce4-4985-a707-d9d388edc69e\">\n",
              "  <button class=\"colab-df-quickchart\" onclick=\"quickchart('df-bf60dc61-cce4-4985-a707-d9d388edc69e')\"\n",
              "            title=\"Suggest charts\"\n",
              "            style=\"display:none;\">\n",
              "\n",
              "<svg xmlns=\"http://www.w3.org/2000/svg\" height=\"24px\"viewBox=\"0 0 24 24\"\n",
              "     width=\"24px\">\n",
              "    <g>\n",
              "        <path d=\"M19 3H5c-1.1 0-2 .9-2 2v14c0 1.1.9 2 2 2h14c1.1 0 2-.9 2-2V5c0-1.1-.9-2-2-2zM9 17H7v-7h2v7zm4 0h-2V7h2v10zm4 0h-2v-4h2v4z\"/>\n",
              "    </g>\n",
              "</svg>\n",
              "  </button>\n",
              "\n",
              "<style>\n",
              "  .colab-df-quickchart {\n",
              "      --bg-color: #E8F0FE;\n",
              "      --fill-color: #1967D2;\n",
              "      --hover-bg-color: #E2EBFA;\n",
              "      --hover-fill-color: #174EA6;\n",
              "      --disabled-fill-color: #AAA;\n",
              "      --disabled-bg-color: #DDD;\n",
              "  }\n",
              "\n",
              "  [theme=dark] .colab-df-quickchart {\n",
              "      --bg-color: #3B4455;\n",
              "      --fill-color: #D2E3FC;\n",
              "      --hover-bg-color: #434B5C;\n",
              "      --hover-fill-color: #FFFFFF;\n",
              "      --disabled-bg-color: #3B4455;\n",
              "      --disabled-fill-color: #666;\n",
              "  }\n",
              "\n",
              "  .colab-df-quickchart {\n",
              "    background-color: var(--bg-color);\n",
              "    border: none;\n",
              "    border-radius: 50%;\n",
              "    cursor: pointer;\n",
              "    display: none;\n",
              "    fill: var(--fill-color);\n",
              "    height: 32px;\n",
              "    padding: 0;\n",
              "    width: 32px;\n",
              "  }\n",
              "\n",
              "  .colab-df-quickchart:hover {\n",
              "    background-color: var(--hover-bg-color);\n",
              "    box-shadow: 0 1px 2px rgba(60, 64, 67, 0.3), 0 1px 3px 1px rgba(60, 64, 67, 0.15);\n",
              "    fill: var(--button-hover-fill-color);\n",
              "  }\n",
              "\n",
              "  .colab-df-quickchart-complete:disabled,\n",
              "  .colab-df-quickchart-complete:disabled:hover {\n",
              "    background-color: var(--disabled-bg-color);\n",
              "    fill: var(--disabled-fill-color);\n",
              "    box-shadow: none;\n",
              "  }\n",
              "\n",
              "  .colab-df-spinner {\n",
              "    border: 2px solid var(--fill-color);\n",
              "    border-color: transparent;\n",
              "    border-bottom-color: var(--fill-color);\n",
              "    animation:\n",
              "      spin 1s steps(1) infinite;\n",
              "  }\n",
              "\n",
              "  @keyframes spin {\n",
              "    0% {\n",
              "      border-color: transparent;\n",
              "      border-bottom-color: var(--fill-color);\n",
              "      border-left-color: var(--fill-color);\n",
              "    }\n",
              "    20% {\n",
              "      border-color: transparent;\n",
              "      border-left-color: var(--fill-color);\n",
              "      border-top-color: var(--fill-color);\n",
              "    }\n",
              "    30% {\n",
              "      border-color: transparent;\n",
              "      border-left-color: var(--fill-color);\n",
              "      border-top-color: var(--fill-color);\n",
              "      border-right-color: var(--fill-color);\n",
              "    }\n",
              "    40% {\n",
              "      border-color: transparent;\n",
              "      border-right-color: var(--fill-color);\n",
              "      border-top-color: var(--fill-color);\n",
              "    }\n",
              "    60% {\n",
              "      border-color: transparent;\n",
              "      border-right-color: var(--fill-color);\n",
              "    }\n",
              "    80% {\n",
              "      border-color: transparent;\n",
              "      border-right-color: var(--fill-color);\n",
              "      border-bottom-color: var(--fill-color);\n",
              "    }\n",
              "    90% {\n",
              "      border-color: transparent;\n",
              "      border-bottom-color: var(--fill-color);\n",
              "    }\n",
              "  }\n",
              "</style>\n",
              "\n",
              "  <script>\n",
              "    async function quickchart(key) {\n",
              "      const quickchartButtonEl =\n",
              "        document.querySelector('#' + key + ' button');\n",
              "      quickchartButtonEl.disabled = true;  // To prevent multiple clicks.\n",
              "      quickchartButtonEl.classList.add('colab-df-spinner');\n",
              "      try {\n",
              "        const charts = await google.colab.kernel.invokeFunction(\n",
              "            'suggestCharts', [key], {});\n",
              "      } catch (error) {\n",
              "        console.error('Error during call to suggestCharts:', error);\n",
              "      }\n",
              "      quickchartButtonEl.classList.remove('colab-df-spinner');\n",
              "      quickchartButtonEl.classList.add('colab-df-quickchart-complete');\n",
              "    }\n",
              "    (() => {\n",
              "      let quickchartButtonEl =\n",
              "        document.querySelector('#df-bf60dc61-cce4-4985-a707-d9d388edc69e button');\n",
              "      quickchartButtonEl.style.display =\n",
              "        google.colab.kernel.accessAllowed ? 'block' : 'none';\n",
              "    })();\n",
              "  </script>\n",
              "</div>\n",
              "    </div>\n",
              "  </div>\n"
            ]
          },
          "metadata": {},
          "execution_count": 88
        }
      ]
    },
    {
      "cell_type": "code",
      "source": [
        "# Leer un archivo CSV y crear un DataFrame\n",
        "df_csv = pd.read_csv('titanic.txt')\n",
        "df_csv"
      ],
      "metadata": {
        "colab": {
          "base_uri": "https://localhost:8080/",
          "height": 458
        },
        "id": "q2C8XMhPb4B8",
        "outputId": "b6527ba6-d51b-440e-c028-2a13ce535ae9"
      },
      "execution_count": null,
      "outputs": [
        {
          "output_type": "execute_result",
          "data": {
            "text/plain": [
              "     PassengerId  Survived  Pclass  \\\n",
              "0              1         0       3   \n",
              "1              2         1       1   \n",
              "2              3         1       3   \n",
              "3              4         1       1   \n",
              "4              5         0       3   \n",
              "..           ...       ...     ...   \n",
              "886          887         0       2   \n",
              "887          888         1       1   \n",
              "888          889         0       3   \n",
              "889          890         1       1   \n",
              "890          891         0       3   \n",
              "\n",
              "                                                  Name     Sex   Age  SibSp  \\\n",
              "0                              Braund, Mr. Owen Harris    male  22.0      1   \n",
              "1    Cumings, Mrs. John Bradley (Florence Briggs Th...  female  38.0      1   \n",
              "2                               Heikkinen, Miss. Laina  female  26.0      0   \n",
              "3         Futrelle, Mrs. Jacques Heath (Lily May Peel)  female  35.0      1   \n",
              "4                             Allen, Mr. William Henry    male  35.0      0   \n",
              "..                                                 ...     ...   ...    ...   \n",
              "886                              Montvila, Rev. Juozas    male  27.0      0   \n",
              "887                       Graham, Miss. Margaret Edith  female  19.0      0   \n",
              "888           Johnston, Miss. Catherine Helen \"Carrie\"  female   NaN      1   \n",
              "889                              Behr, Mr. Karl Howell    male  26.0      0   \n",
              "890                                Dooley, Mr. Patrick    male  32.0      0   \n",
              "\n",
              "     Parch            Ticket     Fare Cabin Embarked  \n",
              "0        0         A/5 21171   7.2500   NaN        S  \n",
              "1        0          PC 17599  71.2833   C85        C  \n",
              "2        0  STON/O2. 3101282   7.9250   NaN        S  \n",
              "3        0            113803  53.1000  C123        S  \n",
              "4        0            373450   8.0500   NaN        S  \n",
              "..     ...               ...      ...   ...      ...  \n",
              "886      0            211536  13.0000   NaN        S  \n",
              "887      0            112053  30.0000   B42        S  \n",
              "888      2        W./C. 6607  23.4500   NaN        S  \n",
              "889      0            111369  30.0000  C148        C  \n",
              "890      0            370376   7.7500   NaN        Q  \n",
              "\n",
              "[891 rows x 12 columns]"
            ],
            "text/html": [
              "\n",
              "  <div id=\"df-0f367c10-6ef3-452e-886c-b66b456a8532\" class=\"colab-df-container\">\n",
              "    <div>\n",
              "<style scoped>\n",
              "    .dataframe tbody tr th:only-of-type {\n",
              "        vertical-align: middle;\n",
              "    }\n",
              "\n",
              "    .dataframe tbody tr th {\n",
              "        vertical-align: top;\n",
              "    }\n",
              "\n",
              "    .dataframe thead th {\n",
              "        text-align: right;\n",
              "    }\n",
              "</style>\n",
              "<table border=\"1\" class=\"dataframe\">\n",
              "  <thead>\n",
              "    <tr style=\"text-align: right;\">\n",
              "      <th></th>\n",
              "      <th>PassengerId</th>\n",
              "      <th>Survived</th>\n",
              "      <th>Pclass</th>\n",
              "      <th>Name</th>\n",
              "      <th>Sex</th>\n",
              "      <th>Age</th>\n",
              "      <th>SibSp</th>\n",
              "      <th>Parch</th>\n",
              "      <th>Ticket</th>\n",
              "      <th>Fare</th>\n",
              "      <th>Cabin</th>\n",
              "      <th>Embarked</th>\n",
              "    </tr>\n",
              "  </thead>\n",
              "  <tbody>\n",
              "    <tr>\n",
              "      <th>0</th>\n",
              "      <td>1</td>\n",
              "      <td>0</td>\n",
              "      <td>3</td>\n",
              "      <td>Braund, Mr. Owen Harris</td>\n",
              "      <td>male</td>\n",
              "      <td>22.0</td>\n",
              "      <td>1</td>\n",
              "      <td>0</td>\n",
              "      <td>A/5 21171</td>\n",
              "      <td>7.2500</td>\n",
              "      <td>NaN</td>\n",
              "      <td>S</td>\n",
              "    </tr>\n",
              "    <tr>\n",
              "      <th>1</th>\n",
              "      <td>2</td>\n",
              "      <td>1</td>\n",
              "      <td>1</td>\n",
              "      <td>Cumings, Mrs. John Bradley (Florence Briggs Th...</td>\n",
              "      <td>female</td>\n",
              "      <td>38.0</td>\n",
              "      <td>1</td>\n",
              "      <td>0</td>\n",
              "      <td>PC 17599</td>\n",
              "      <td>71.2833</td>\n",
              "      <td>C85</td>\n",
              "      <td>C</td>\n",
              "    </tr>\n",
              "    <tr>\n",
              "      <th>2</th>\n",
              "      <td>3</td>\n",
              "      <td>1</td>\n",
              "      <td>3</td>\n",
              "      <td>Heikkinen, Miss. Laina</td>\n",
              "      <td>female</td>\n",
              "      <td>26.0</td>\n",
              "      <td>0</td>\n",
              "      <td>0</td>\n",
              "      <td>STON/O2. 3101282</td>\n",
              "      <td>7.9250</td>\n",
              "      <td>NaN</td>\n",
              "      <td>S</td>\n",
              "    </tr>\n",
              "    <tr>\n",
              "      <th>3</th>\n",
              "      <td>4</td>\n",
              "      <td>1</td>\n",
              "      <td>1</td>\n",
              "      <td>Futrelle, Mrs. Jacques Heath (Lily May Peel)</td>\n",
              "      <td>female</td>\n",
              "      <td>35.0</td>\n",
              "      <td>1</td>\n",
              "      <td>0</td>\n",
              "      <td>113803</td>\n",
              "      <td>53.1000</td>\n",
              "      <td>C123</td>\n",
              "      <td>S</td>\n",
              "    </tr>\n",
              "    <tr>\n",
              "      <th>4</th>\n",
              "      <td>5</td>\n",
              "      <td>0</td>\n",
              "      <td>3</td>\n",
              "      <td>Allen, Mr. William Henry</td>\n",
              "      <td>male</td>\n",
              "      <td>35.0</td>\n",
              "      <td>0</td>\n",
              "      <td>0</td>\n",
              "      <td>373450</td>\n",
              "      <td>8.0500</td>\n",
              "      <td>NaN</td>\n",
              "      <td>S</td>\n",
              "    </tr>\n",
              "    <tr>\n",
              "      <th>...</th>\n",
              "      <td>...</td>\n",
              "      <td>...</td>\n",
              "      <td>...</td>\n",
              "      <td>...</td>\n",
              "      <td>...</td>\n",
              "      <td>...</td>\n",
              "      <td>...</td>\n",
              "      <td>...</td>\n",
              "      <td>...</td>\n",
              "      <td>...</td>\n",
              "      <td>...</td>\n",
              "      <td>...</td>\n",
              "    </tr>\n",
              "    <tr>\n",
              "      <th>886</th>\n",
              "      <td>887</td>\n",
              "      <td>0</td>\n",
              "      <td>2</td>\n",
              "      <td>Montvila, Rev. Juozas</td>\n",
              "      <td>male</td>\n",
              "      <td>27.0</td>\n",
              "      <td>0</td>\n",
              "      <td>0</td>\n",
              "      <td>211536</td>\n",
              "      <td>13.0000</td>\n",
              "      <td>NaN</td>\n",
              "      <td>S</td>\n",
              "    </tr>\n",
              "    <tr>\n",
              "      <th>887</th>\n",
              "      <td>888</td>\n",
              "      <td>1</td>\n",
              "      <td>1</td>\n",
              "      <td>Graham, Miss. Margaret Edith</td>\n",
              "      <td>female</td>\n",
              "      <td>19.0</td>\n",
              "      <td>0</td>\n",
              "      <td>0</td>\n",
              "      <td>112053</td>\n",
              "      <td>30.0000</td>\n",
              "      <td>B42</td>\n",
              "      <td>S</td>\n",
              "    </tr>\n",
              "    <tr>\n",
              "      <th>888</th>\n",
              "      <td>889</td>\n",
              "      <td>0</td>\n",
              "      <td>3</td>\n",
              "      <td>Johnston, Miss. Catherine Helen \"Carrie\"</td>\n",
              "      <td>female</td>\n",
              "      <td>NaN</td>\n",
              "      <td>1</td>\n",
              "      <td>2</td>\n",
              "      <td>W./C. 6607</td>\n",
              "      <td>23.4500</td>\n",
              "      <td>NaN</td>\n",
              "      <td>S</td>\n",
              "    </tr>\n",
              "    <tr>\n",
              "      <th>889</th>\n",
              "      <td>890</td>\n",
              "      <td>1</td>\n",
              "      <td>1</td>\n",
              "      <td>Behr, Mr. Karl Howell</td>\n",
              "      <td>male</td>\n",
              "      <td>26.0</td>\n",
              "      <td>0</td>\n",
              "      <td>0</td>\n",
              "      <td>111369</td>\n",
              "      <td>30.0000</td>\n",
              "      <td>C148</td>\n",
              "      <td>C</td>\n",
              "    </tr>\n",
              "    <tr>\n",
              "      <th>890</th>\n",
              "      <td>891</td>\n",
              "      <td>0</td>\n",
              "      <td>3</td>\n",
              "      <td>Dooley, Mr. Patrick</td>\n",
              "      <td>male</td>\n",
              "      <td>32.0</td>\n",
              "      <td>0</td>\n",
              "      <td>0</td>\n",
              "      <td>370376</td>\n",
              "      <td>7.7500</td>\n",
              "      <td>NaN</td>\n",
              "      <td>Q</td>\n",
              "    </tr>\n",
              "  </tbody>\n",
              "</table>\n",
              "<p>891 rows × 12 columns</p>\n",
              "</div>\n",
              "    <div class=\"colab-df-buttons\">\n",
              "\n",
              "  <div class=\"colab-df-container\">\n",
              "    <button class=\"colab-df-convert\" onclick=\"convertToInteractive('df-0f367c10-6ef3-452e-886c-b66b456a8532')\"\n",
              "            title=\"Convert this dataframe to an interactive table.\"\n",
              "            style=\"display:none;\">\n",
              "\n",
              "  <svg xmlns=\"http://www.w3.org/2000/svg\" height=\"24px\" viewBox=\"0 -960 960 960\">\n",
              "    <path d=\"M120-120v-720h720v720H120Zm60-500h600v-160H180v160Zm220 220h160v-160H400v160Zm0 220h160v-160H400v160ZM180-400h160v-160H180v160Zm440 0h160v-160H620v160ZM180-180h160v-160H180v160Zm440 0h160v-160H620v160Z\"/>\n",
              "  </svg>\n",
              "    </button>\n",
              "\n",
              "  <style>\n",
              "    .colab-df-container {\n",
              "      display:flex;\n",
              "      gap: 12px;\n",
              "    }\n",
              "\n",
              "    .colab-df-convert {\n",
              "      background-color: #E8F0FE;\n",
              "      border: none;\n",
              "      border-radius: 50%;\n",
              "      cursor: pointer;\n",
              "      display: none;\n",
              "      fill: #1967D2;\n",
              "      height: 32px;\n",
              "      padding: 0 0 0 0;\n",
              "      width: 32px;\n",
              "    }\n",
              "\n",
              "    .colab-df-convert:hover {\n",
              "      background-color: #E2EBFA;\n",
              "      box-shadow: 0px 1px 2px rgba(60, 64, 67, 0.3), 0px 1px 3px 1px rgba(60, 64, 67, 0.15);\n",
              "      fill: #174EA6;\n",
              "    }\n",
              "\n",
              "    .colab-df-buttons div {\n",
              "      margin-bottom: 4px;\n",
              "    }\n",
              "\n",
              "    [theme=dark] .colab-df-convert {\n",
              "      background-color: #3B4455;\n",
              "      fill: #D2E3FC;\n",
              "    }\n",
              "\n",
              "    [theme=dark] .colab-df-convert:hover {\n",
              "      background-color: #434B5C;\n",
              "      box-shadow: 0px 1px 3px 1px rgba(0, 0, 0, 0.15);\n",
              "      filter: drop-shadow(0px 1px 2px rgba(0, 0, 0, 0.3));\n",
              "      fill: #FFFFFF;\n",
              "    }\n",
              "  </style>\n",
              "\n",
              "    <script>\n",
              "      const buttonEl =\n",
              "        document.querySelector('#df-0f367c10-6ef3-452e-886c-b66b456a8532 button.colab-df-convert');\n",
              "      buttonEl.style.display =\n",
              "        google.colab.kernel.accessAllowed ? 'block' : 'none';\n",
              "\n",
              "      async function convertToInteractive(key) {\n",
              "        const element = document.querySelector('#df-0f367c10-6ef3-452e-886c-b66b456a8532');\n",
              "        const dataTable =\n",
              "          await google.colab.kernel.invokeFunction('convertToInteractive',\n",
              "                                                    [key], {});\n",
              "        if (!dataTable) return;\n",
              "\n",
              "        const docLinkHtml = 'Like what you see? Visit the ' +\n",
              "          '<a target=\"_blank\" href=https://colab.research.google.com/notebooks/data_table.ipynb>data table notebook</a>'\n",
              "          + ' to learn more about interactive tables.';\n",
              "        element.innerHTML = '';\n",
              "        dataTable['output_type'] = 'display_data';\n",
              "        await google.colab.output.renderOutput(dataTable, element);\n",
              "        const docLink = document.createElement('div');\n",
              "        docLink.innerHTML = docLinkHtml;\n",
              "        element.appendChild(docLink);\n",
              "      }\n",
              "    </script>\n",
              "  </div>\n",
              "\n",
              "\n",
              "<div id=\"df-3f7f59f1-60ad-4aed-b68f-635072605dd1\">\n",
              "  <button class=\"colab-df-quickchart\" onclick=\"quickchart('df-3f7f59f1-60ad-4aed-b68f-635072605dd1')\"\n",
              "            title=\"Suggest charts\"\n",
              "            style=\"display:none;\">\n",
              "\n",
              "<svg xmlns=\"http://www.w3.org/2000/svg\" height=\"24px\"viewBox=\"0 0 24 24\"\n",
              "     width=\"24px\">\n",
              "    <g>\n",
              "        <path d=\"M19 3H5c-1.1 0-2 .9-2 2v14c0 1.1.9 2 2 2h14c1.1 0 2-.9 2-2V5c0-1.1-.9-2-2-2zM9 17H7v-7h2v7zm4 0h-2V7h2v10zm4 0h-2v-4h2v4z\"/>\n",
              "    </g>\n",
              "</svg>\n",
              "  </button>\n",
              "\n",
              "<style>\n",
              "  .colab-df-quickchart {\n",
              "      --bg-color: #E8F0FE;\n",
              "      --fill-color: #1967D2;\n",
              "      --hover-bg-color: #E2EBFA;\n",
              "      --hover-fill-color: #174EA6;\n",
              "      --disabled-fill-color: #AAA;\n",
              "      --disabled-bg-color: #DDD;\n",
              "  }\n",
              "\n",
              "  [theme=dark] .colab-df-quickchart {\n",
              "      --bg-color: #3B4455;\n",
              "      --fill-color: #D2E3FC;\n",
              "      --hover-bg-color: #434B5C;\n",
              "      --hover-fill-color: #FFFFFF;\n",
              "      --disabled-bg-color: #3B4455;\n",
              "      --disabled-fill-color: #666;\n",
              "  }\n",
              "\n",
              "  .colab-df-quickchart {\n",
              "    background-color: var(--bg-color);\n",
              "    border: none;\n",
              "    border-radius: 50%;\n",
              "    cursor: pointer;\n",
              "    display: none;\n",
              "    fill: var(--fill-color);\n",
              "    height: 32px;\n",
              "    padding: 0;\n",
              "    width: 32px;\n",
              "  }\n",
              "\n",
              "  .colab-df-quickchart:hover {\n",
              "    background-color: var(--hover-bg-color);\n",
              "    box-shadow: 0 1px 2px rgba(60, 64, 67, 0.3), 0 1px 3px 1px rgba(60, 64, 67, 0.15);\n",
              "    fill: var(--button-hover-fill-color);\n",
              "  }\n",
              "\n",
              "  .colab-df-quickchart-complete:disabled,\n",
              "  .colab-df-quickchart-complete:disabled:hover {\n",
              "    background-color: var(--disabled-bg-color);\n",
              "    fill: var(--disabled-fill-color);\n",
              "    box-shadow: none;\n",
              "  }\n",
              "\n",
              "  .colab-df-spinner {\n",
              "    border: 2px solid var(--fill-color);\n",
              "    border-color: transparent;\n",
              "    border-bottom-color: var(--fill-color);\n",
              "    animation:\n",
              "      spin 1s steps(1) infinite;\n",
              "  }\n",
              "\n",
              "  @keyframes spin {\n",
              "    0% {\n",
              "      border-color: transparent;\n",
              "      border-bottom-color: var(--fill-color);\n",
              "      border-left-color: var(--fill-color);\n",
              "    }\n",
              "    20% {\n",
              "      border-color: transparent;\n",
              "      border-left-color: var(--fill-color);\n",
              "      border-top-color: var(--fill-color);\n",
              "    }\n",
              "    30% {\n",
              "      border-color: transparent;\n",
              "      border-left-color: var(--fill-color);\n",
              "      border-top-color: var(--fill-color);\n",
              "      border-right-color: var(--fill-color);\n",
              "    }\n",
              "    40% {\n",
              "      border-color: transparent;\n",
              "      border-right-color: var(--fill-color);\n",
              "      border-top-color: var(--fill-color);\n",
              "    }\n",
              "    60% {\n",
              "      border-color: transparent;\n",
              "      border-right-color: var(--fill-color);\n",
              "    }\n",
              "    80% {\n",
              "      border-color: transparent;\n",
              "      border-right-color: var(--fill-color);\n",
              "      border-bottom-color: var(--fill-color);\n",
              "    }\n",
              "    90% {\n",
              "      border-color: transparent;\n",
              "      border-bottom-color: var(--fill-color);\n",
              "    }\n",
              "  }\n",
              "</style>\n",
              "\n",
              "  <script>\n",
              "    async function quickchart(key) {\n",
              "      const quickchartButtonEl =\n",
              "        document.querySelector('#' + key + ' button');\n",
              "      quickchartButtonEl.disabled = true;  // To prevent multiple clicks.\n",
              "      quickchartButtonEl.classList.add('colab-df-spinner');\n",
              "      try {\n",
              "        const charts = await google.colab.kernel.invokeFunction(\n",
              "            'suggestCharts', [key], {});\n",
              "      } catch (error) {\n",
              "        console.error('Error during call to suggestCharts:', error);\n",
              "      }\n",
              "      quickchartButtonEl.classList.remove('colab-df-spinner');\n",
              "      quickchartButtonEl.classList.add('colab-df-quickchart-complete');\n",
              "    }\n",
              "    (() => {\n",
              "      let quickchartButtonEl =\n",
              "        document.querySelector('#df-3f7f59f1-60ad-4aed-b68f-635072605dd1 button');\n",
              "      quickchartButtonEl.style.display =\n",
              "        google.colab.kernel.accessAllowed ? 'block' : 'none';\n",
              "    })();\n",
              "  </script>\n",
              "</div>\n",
              "    </div>\n",
              "  </div>\n"
            ]
          },
          "metadata": {},
          "execution_count": 91
        }
      ]
    },
    {
      "cell_type": "code",
      "source": [
        "# Leer una hoja de cálculo de Excel y crear un DataFrame\n",
        "df_excel = pd.read_excel('prueba.xlsx', sheet_name='Hoja1')\n",
        "df_excel"
      ],
      "metadata": {
        "colab": {
          "base_uri": "https://localhost:8080/",
          "height": 143
        },
        "id": "_PyqnBQQcMBw",
        "outputId": "a769a436-0ef6-4431-e128-170f02ec969f"
      },
      "execution_count": null,
      "outputs": [
        {
          "output_type": "execute_result",
          "data": {
            "text/plain": [
              "  nombre  edad\n",
              "0   Luis    12\n",
              "1  Maria    15\n",
              "2   Jose    18"
            ],
            "text/html": [
              "\n",
              "  <div id=\"df-b3f518db-ae53-4630-aa47-a07bbfe87962\" class=\"colab-df-container\">\n",
              "    <div>\n",
              "<style scoped>\n",
              "    .dataframe tbody tr th:only-of-type {\n",
              "        vertical-align: middle;\n",
              "    }\n",
              "\n",
              "    .dataframe tbody tr th {\n",
              "        vertical-align: top;\n",
              "    }\n",
              "\n",
              "    .dataframe thead th {\n",
              "        text-align: right;\n",
              "    }\n",
              "</style>\n",
              "<table border=\"1\" class=\"dataframe\">\n",
              "  <thead>\n",
              "    <tr style=\"text-align: right;\">\n",
              "      <th></th>\n",
              "      <th>nombre</th>\n",
              "      <th>edad</th>\n",
              "    </tr>\n",
              "  </thead>\n",
              "  <tbody>\n",
              "    <tr>\n",
              "      <th>0</th>\n",
              "      <td>Luis</td>\n",
              "      <td>12</td>\n",
              "    </tr>\n",
              "    <tr>\n",
              "      <th>1</th>\n",
              "      <td>Maria</td>\n",
              "      <td>15</td>\n",
              "    </tr>\n",
              "    <tr>\n",
              "      <th>2</th>\n",
              "      <td>Jose</td>\n",
              "      <td>18</td>\n",
              "    </tr>\n",
              "  </tbody>\n",
              "</table>\n",
              "</div>\n",
              "    <div class=\"colab-df-buttons\">\n",
              "\n",
              "  <div class=\"colab-df-container\">\n",
              "    <button class=\"colab-df-convert\" onclick=\"convertToInteractive('df-b3f518db-ae53-4630-aa47-a07bbfe87962')\"\n",
              "            title=\"Convert this dataframe to an interactive table.\"\n",
              "            style=\"display:none;\">\n",
              "\n",
              "  <svg xmlns=\"http://www.w3.org/2000/svg\" height=\"24px\" viewBox=\"0 -960 960 960\">\n",
              "    <path d=\"M120-120v-720h720v720H120Zm60-500h600v-160H180v160Zm220 220h160v-160H400v160Zm0 220h160v-160H400v160ZM180-400h160v-160H180v160Zm440 0h160v-160H620v160ZM180-180h160v-160H180v160Zm440 0h160v-160H620v160Z\"/>\n",
              "  </svg>\n",
              "    </button>\n",
              "\n",
              "  <style>\n",
              "    .colab-df-container {\n",
              "      display:flex;\n",
              "      gap: 12px;\n",
              "    }\n",
              "\n",
              "    .colab-df-convert {\n",
              "      background-color: #E8F0FE;\n",
              "      border: none;\n",
              "      border-radius: 50%;\n",
              "      cursor: pointer;\n",
              "      display: none;\n",
              "      fill: #1967D2;\n",
              "      height: 32px;\n",
              "      padding: 0 0 0 0;\n",
              "      width: 32px;\n",
              "    }\n",
              "\n",
              "    .colab-df-convert:hover {\n",
              "      background-color: #E2EBFA;\n",
              "      box-shadow: 0px 1px 2px rgba(60, 64, 67, 0.3), 0px 1px 3px 1px rgba(60, 64, 67, 0.15);\n",
              "      fill: #174EA6;\n",
              "    }\n",
              "\n",
              "    .colab-df-buttons div {\n",
              "      margin-bottom: 4px;\n",
              "    }\n",
              "\n",
              "    [theme=dark] .colab-df-convert {\n",
              "      background-color: #3B4455;\n",
              "      fill: #D2E3FC;\n",
              "    }\n",
              "\n",
              "    [theme=dark] .colab-df-convert:hover {\n",
              "      background-color: #434B5C;\n",
              "      box-shadow: 0px 1px 3px 1px rgba(0, 0, 0, 0.15);\n",
              "      filter: drop-shadow(0px 1px 2px rgba(0, 0, 0, 0.3));\n",
              "      fill: #FFFFFF;\n",
              "    }\n",
              "  </style>\n",
              "\n",
              "    <script>\n",
              "      const buttonEl =\n",
              "        document.querySelector('#df-b3f518db-ae53-4630-aa47-a07bbfe87962 button.colab-df-convert');\n",
              "      buttonEl.style.display =\n",
              "        google.colab.kernel.accessAllowed ? 'block' : 'none';\n",
              "\n",
              "      async function convertToInteractive(key) {\n",
              "        const element = document.querySelector('#df-b3f518db-ae53-4630-aa47-a07bbfe87962');\n",
              "        const dataTable =\n",
              "          await google.colab.kernel.invokeFunction('convertToInteractive',\n",
              "                                                    [key], {});\n",
              "        if (!dataTable) return;\n",
              "\n",
              "        const docLinkHtml = 'Like what you see? Visit the ' +\n",
              "          '<a target=\"_blank\" href=https://colab.research.google.com/notebooks/data_table.ipynb>data table notebook</a>'\n",
              "          + ' to learn more about interactive tables.';\n",
              "        element.innerHTML = '';\n",
              "        dataTable['output_type'] = 'display_data';\n",
              "        await google.colab.output.renderOutput(dataTable, element);\n",
              "        const docLink = document.createElement('div');\n",
              "        docLink.innerHTML = docLinkHtml;\n",
              "        element.appendChild(docLink);\n",
              "      }\n",
              "    </script>\n",
              "  </div>\n",
              "\n",
              "\n",
              "<div id=\"df-f31456a7-fb28-4846-8ea2-b3afe8dc855d\">\n",
              "  <button class=\"colab-df-quickchart\" onclick=\"quickchart('df-f31456a7-fb28-4846-8ea2-b3afe8dc855d')\"\n",
              "            title=\"Suggest charts\"\n",
              "            style=\"display:none;\">\n",
              "\n",
              "<svg xmlns=\"http://www.w3.org/2000/svg\" height=\"24px\"viewBox=\"0 0 24 24\"\n",
              "     width=\"24px\">\n",
              "    <g>\n",
              "        <path d=\"M19 3H5c-1.1 0-2 .9-2 2v14c0 1.1.9 2 2 2h14c1.1 0 2-.9 2-2V5c0-1.1-.9-2-2-2zM9 17H7v-7h2v7zm4 0h-2V7h2v10zm4 0h-2v-4h2v4z\"/>\n",
              "    </g>\n",
              "</svg>\n",
              "  </button>\n",
              "\n",
              "<style>\n",
              "  .colab-df-quickchart {\n",
              "      --bg-color: #E8F0FE;\n",
              "      --fill-color: #1967D2;\n",
              "      --hover-bg-color: #E2EBFA;\n",
              "      --hover-fill-color: #174EA6;\n",
              "      --disabled-fill-color: #AAA;\n",
              "      --disabled-bg-color: #DDD;\n",
              "  }\n",
              "\n",
              "  [theme=dark] .colab-df-quickchart {\n",
              "      --bg-color: #3B4455;\n",
              "      --fill-color: #D2E3FC;\n",
              "      --hover-bg-color: #434B5C;\n",
              "      --hover-fill-color: #FFFFFF;\n",
              "      --disabled-bg-color: #3B4455;\n",
              "      --disabled-fill-color: #666;\n",
              "  }\n",
              "\n",
              "  .colab-df-quickchart {\n",
              "    background-color: var(--bg-color);\n",
              "    border: none;\n",
              "    border-radius: 50%;\n",
              "    cursor: pointer;\n",
              "    display: none;\n",
              "    fill: var(--fill-color);\n",
              "    height: 32px;\n",
              "    padding: 0;\n",
              "    width: 32px;\n",
              "  }\n",
              "\n",
              "  .colab-df-quickchart:hover {\n",
              "    background-color: var(--hover-bg-color);\n",
              "    box-shadow: 0 1px 2px rgba(60, 64, 67, 0.3), 0 1px 3px 1px rgba(60, 64, 67, 0.15);\n",
              "    fill: var(--button-hover-fill-color);\n",
              "  }\n",
              "\n",
              "  .colab-df-quickchart-complete:disabled,\n",
              "  .colab-df-quickchart-complete:disabled:hover {\n",
              "    background-color: var(--disabled-bg-color);\n",
              "    fill: var(--disabled-fill-color);\n",
              "    box-shadow: none;\n",
              "  }\n",
              "\n",
              "  .colab-df-spinner {\n",
              "    border: 2px solid var(--fill-color);\n",
              "    border-color: transparent;\n",
              "    border-bottom-color: var(--fill-color);\n",
              "    animation:\n",
              "      spin 1s steps(1) infinite;\n",
              "  }\n",
              "\n",
              "  @keyframes spin {\n",
              "    0% {\n",
              "      border-color: transparent;\n",
              "      border-bottom-color: var(--fill-color);\n",
              "      border-left-color: var(--fill-color);\n",
              "    }\n",
              "    20% {\n",
              "      border-color: transparent;\n",
              "      border-left-color: var(--fill-color);\n",
              "      border-top-color: var(--fill-color);\n",
              "    }\n",
              "    30% {\n",
              "      border-color: transparent;\n",
              "      border-left-color: var(--fill-color);\n",
              "      border-top-color: var(--fill-color);\n",
              "      border-right-color: var(--fill-color);\n",
              "    }\n",
              "    40% {\n",
              "      border-color: transparent;\n",
              "      border-right-color: var(--fill-color);\n",
              "      border-top-color: var(--fill-color);\n",
              "    }\n",
              "    60% {\n",
              "      border-color: transparent;\n",
              "      border-right-color: var(--fill-color);\n",
              "    }\n",
              "    80% {\n",
              "      border-color: transparent;\n",
              "      border-right-color: var(--fill-color);\n",
              "      border-bottom-color: var(--fill-color);\n",
              "    }\n",
              "    90% {\n",
              "      border-color: transparent;\n",
              "      border-bottom-color: var(--fill-color);\n",
              "    }\n",
              "  }\n",
              "</style>\n",
              "\n",
              "  <script>\n",
              "    async function quickchart(key) {\n",
              "      const quickchartButtonEl =\n",
              "        document.querySelector('#' + key + ' button');\n",
              "      quickchartButtonEl.disabled = true;  // To prevent multiple clicks.\n",
              "      quickchartButtonEl.classList.add('colab-df-spinner');\n",
              "      try {\n",
              "        const charts = await google.colab.kernel.invokeFunction(\n",
              "            'suggestCharts', [key], {});\n",
              "      } catch (error) {\n",
              "        console.error('Error during call to suggestCharts:', error);\n",
              "      }\n",
              "      quickchartButtonEl.classList.remove('colab-df-spinner');\n",
              "      quickchartButtonEl.classList.add('colab-df-quickchart-complete');\n",
              "    }\n",
              "    (() => {\n",
              "      let quickchartButtonEl =\n",
              "        document.querySelector('#df-f31456a7-fb28-4846-8ea2-b3afe8dc855d button');\n",
              "      quickchartButtonEl.style.display =\n",
              "        google.colab.kernel.accessAllowed ? 'block' : 'none';\n",
              "    })();\n",
              "  </script>\n",
              "</div>\n",
              "    </div>\n",
              "  </div>\n"
            ]
          },
          "metadata": {},
          "execution_count": 93
        }
      ]
    },
    {
      "cell_type": "code",
      "source": [
        "import sqlite3\n",
        "\n",
        "# Crear una conexión a una base de datos SQLite\n",
        "conn = sqlite3.connect('database.db')\n",
        "\n",
        "# Leer una tabla SQL y crear un DataFrame\n",
        "query_sql = 'SELECT * FROM tabla'\n",
        "df_sql = pd.read_sql_query(query_sql, conn)"
      ],
      "metadata": {
        "id": "JNoJDK8Wc3Ws"
      },
      "execution_count": null,
      "outputs": []
    },
    {
      "cell_type": "markdown",
      "source": [
        "# **Exploracion del DataFrame**"
      ],
      "metadata": {
        "id": "rPSYTdNnJIlf"
      }
    },
    {
      "cell_type": "code",
      "source": [
        "# 1. Visualización de Datos Iniciales\n",
        "import pandas as pd\n",
        "\n",
        "# Crear un DataFrame de ejemplo\n",
        "data = {'Nombre': ['Juan', 'Maria', 'Carlos','Jose','Felipe','Pablo','Nelsa','Susana','Karen','Vicente'],\n",
        "        'Edad': [25, 30, 35, 28, 40, 32,22,45,42,50],\n",
        "        'Ciudad': ['Trujillo', 'Lima', 'Chiclayo','Piura','Ica','Arequipa','Lima','Huaraz','Lima','Trujillo']}\n",
        "df = pd.DataFrame(data)\n",
        "\n",
        "# Visualizar los primeros y últimos registros\n",
        "print(\"Primeros 5 registros:\")\n",
        "print(df.head())\n",
        "\n",
        "print(\"\\nÚltimos 5 registros:\")\n",
        "print(df.tail())\n"
      ],
      "metadata": {
        "id": "8QoFlrQ2cSar",
        "colab": {
          "base_uri": "https://localhost:8080/"
        },
        "outputId": "ff38c805-cbb9-4908-8f23-15a6bc0807cd"
      },
      "execution_count": null,
      "outputs": [
        {
          "output_type": "stream",
          "name": "stdout",
          "text": [
            "Primeros 5 registros:\n",
            "   Nombre  Edad    Ciudad\n",
            "0    Juan    25  Trujillo\n",
            "1   Maria    30      Lima\n",
            "2  Carlos    35  Chiclayo\n",
            "3    Jose    28     Piura\n",
            "4  Felipe    40       Ica\n",
            "\n",
            "Últimos 5 registros:\n",
            "    Nombre  Edad    Ciudad\n",
            "5    Pablo    32  Arequipa\n",
            "6    Nelsa    22      Lima\n",
            "7   Susana    45    Huaraz\n",
            "8    Karen    42      Lima\n",
            "9  Vicente    50  Trujillo\n"
          ]
        }
      ]
    },
    {
      "cell_type": "code",
      "source": [
        "# Obtener información general sobre el DataFrame : info()\n",
        "df.info()"
      ],
      "metadata": {
        "colab": {
          "base_uri": "https://localhost:8080/"
        },
        "id": "lpMckLsCNkGg",
        "outputId": "1ebc4638-cffe-4df8-e9b1-97a6bf2e96b1"
      },
      "execution_count": null,
      "outputs": [
        {
          "output_type": "stream",
          "name": "stdout",
          "text": [
            "<class 'pandas.core.frame.DataFrame'>\n",
            "RangeIndex: 10 entries, 0 to 9\n",
            "Data columns (total 3 columns):\n",
            " #   Column  Non-Null Count  Dtype \n",
            "---  ------  --------------  ----- \n",
            " 0   Nombre  10 non-null     object\n",
            " 1   Edad    10 non-null     int64 \n",
            " 2   Ciudad  10 non-null     object\n",
            "dtypes: int64(1), object(2)\n",
            "memory usage: 368.0+ bytes\n"
          ]
        }
      ]
    },
    {
      "cell_type": "code",
      "source": [
        "# Estadísticas Descriptivas: describe()\n",
        "# Obtener estadísticas descriptivas\n",
        "df.describe()"
      ],
      "metadata": {
        "colab": {
          "base_uri": "https://localhost:8080/",
          "height": 300
        },
        "id": "lbZjRWvAQuZZ",
        "outputId": "e9ea546e-e6de-4de3-dcda-f4d30eec6da4"
      },
      "execution_count": null,
      "outputs": [
        {
          "output_type": "execute_result",
          "data": {
            "text/plain": [
              "            Edad\n",
              "count  10.000000\n",
              "mean   34.900000\n",
              "std     9.134185\n",
              "min    22.000000\n",
              "25%    28.500000\n",
              "50%    33.500000\n",
              "75%    41.500000\n",
              "max    50.000000"
            ],
            "text/html": [
              "\n",
              "  <div id=\"df-3d7b856d-2caf-4fa6-ab54-865acaeb522b\" class=\"colab-df-container\">\n",
              "    <div>\n",
              "<style scoped>\n",
              "    .dataframe tbody tr th:only-of-type {\n",
              "        vertical-align: middle;\n",
              "    }\n",
              "\n",
              "    .dataframe tbody tr th {\n",
              "        vertical-align: top;\n",
              "    }\n",
              "\n",
              "    .dataframe thead th {\n",
              "        text-align: right;\n",
              "    }\n",
              "</style>\n",
              "<table border=\"1\" class=\"dataframe\">\n",
              "  <thead>\n",
              "    <tr style=\"text-align: right;\">\n",
              "      <th></th>\n",
              "      <th>Edad</th>\n",
              "    </tr>\n",
              "  </thead>\n",
              "  <tbody>\n",
              "    <tr>\n",
              "      <th>count</th>\n",
              "      <td>10.000000</td>\n",
              "    </tr>\n",
              "    <tr>\n",
              "      <th>mean</th>\n",
              "      <td>34.900000</td>\n",
              "    </tr>\n",
              "    <tr>\n",
              "      <th>std</th>\n",
              "      <td>9.134185</td>\n",
              "    </tr>\n",
              "    <tr>\n",
              "      <th>min</th>\n",
              "      <td>22.000000</td>\n",
              "    </tr>\n",
              "    <tr>\n",
              "      <th>25%</th>\n",
              "      <td>28.500000</td>\n",
              "    </tr>\n",
              "    <tr>\n",
              "      <th>50%</th>\n",
              "      <td>33.500000</td>\n",
              "    </tr>\n",
              "    <tr>\n",
              "      <th>75%</th>\n",
              "      <td>41.500000</td>\n",
              "    </tr>\n",
              "    <tr>\n",
              "      <th>max</th>\n",
              "      <td>50.000000</td>\n",
              "    </tr>\n",
              "  </tbody>\n",
              "</table>\n",
              "</div>\n",
              "    <div class=\"colab-df-buttons\">\n",
              "\n",
              "  <div class=\"colab-df-container\">\n",
              "    <button class=\"colab-df-convert\" onclick=\"convertToInteractive('df-3d7b856d-2caf-4fa6-ab54-865acaeb522b')\"\n",
              "            title=\"Convert this dataframe to an interactive table.\"\n",
              "            style=\"display:none;\">\n",
              "\n",
              "  <svg xmlns=\"http://www.w3.org/2000/svg\" height=\"24px\" viewBox=\"0 -960 960 960\">\n",
              "    <path d=\"M120-120v-720h720v720H120Zm60-500h600v-160H180v160Zm220 220h160v-160H400v160Zm0 220h160v-160H400v160ZM180-400h160v-160H180v160Zm440 0h160v-160H620v160ZM180-180h160v-160H180v160Zm440 0h160v-160H620v160Z\"/>\n",
              "  </svg>\n",
              "    </button>\n",
              "\n",
              "  <style>\n",
              "    .colab-df-container {\n",
              "      display:flex;\n",
              "      gap: 12px;\n",
              "    }\n",
              "\n",
              "    .colab-df-convert {\n",
              "      background-color: #E8F0FE;\n",
              "      border: none;\n",
              "      border-radius: 50%;\n",
              "      cursor: pointer;\n",
              "      display: none;\n",
              "      fill: #1967D2;\n",
              "      height: 32px;\n",
              "      padding: 0 0 0 0;\n",
              "      width: 32px;\n",
              "    }\n",
              "\n",
              "    .colab-df-convert:hover {\n",
              "      background-color: #E2EBFA;\n",
              "      box-shadow: 0px 1px 2px rgba(60, 64, 67, 0.3), 0px 1px 3px 1px rgba(60, 64, 67, 0.15);\n",
              "      fill: #174EA6;\n",
              "    }\n",
              "\n",
              "    .colab-df-buttons div {\n",
              "      margin-bottom: 4px;\n",
              "    }\n",
              "\n",
              "    [theme=dark] .colab-df-convert {\n",
              "      background-color: #3B4455;\n",
              "      fill: #D2E3FC;\n",
              "    }\n",
              "\n",
              "    [theme=dark] .colab-df-convert:hover {\n",
              "      background-color: #434B5C;\n",
              "      box-shadow: 0px 1px 3px 1px rgba(0, 0, 0, 0.15);\n",
              "      filter: drop-shadow(0px 1px 2px rgba(0, 0, 0, 0.3));\n",
              "      fill: #FFFFFF;\n",
              "    }\n",
              "  </style>\n",
              "\n",
              "    <script>\n",
              "      const buttonEl =\n",
              "        document.querySelector('#df-3d7b856d-2caf-4fa6-ab54-865acaeb522b button.colab-df-convert');\n",
              "      buttonEl.style.display =\n",
              "        google.colab.kernel.accessAllowed ? 'block' : 'none';\n",
              "\n",
              "      async function convertToInteractive(key) {\n",
              "        const element = document.querySelector('#df-3d7b856d-2caf-4fa6-ab54-865acaeb522b');\n",
              "        const dataTable =\n",
              "          await google.colab.kernel.invokeFunction('convertToInteractive',\n",
              "                                                    [key], {});\n",
              "        if (!dataTable) return;\n",
              "\n",
              "        const docLinkHtml = 'Like what you see? Visit the ' +\n",
              "          '<a target=\"_blank\" href=https://colab.research.google.com/notebooks/data_table.ipynb>data table notebook</a>'\n",
              "          + ' to learn more about interactive tables.';\n",
              "        element.innerHTML = '';\n",
              "        dataTable['output_type'] = 'display_data';\n",
              "        await google.colab.output.renderOutput(dataTable, element);\n",
              "        const docLink = document.createElement('div');\n",
              "        docLink.innerHTML = docLinkHtml;\n",
              "        element.appendChild(docLink);\n",
              "      }\n",
              "    </script>\n",
              "  </div>\n",
              "\n",
              "\n",
              "<div id=\"df-a0e3fd36-a0b9-47bb-bfd4-6ada9d05cf72\">\n",
              "  <button class=\"colab-df-quickchart\" onclick=\"quickchart('df-a0e3fd36-a0b9-47bb-bfd4-6ada9d05cf72')\"\n",
              "            title=\"Suggest charts\"\n",
              "            style=\"display:none;\">\n",
              "\n",
              "<svg xmlns=\"http://www.w3.org/2000/svg\" height=\"24px\"viewBox=\"0 0 24 24\"\n",
              "     width=\"24px\">\n",
              "    <g>\n",
              "        <path d=\"M19 3H5c-1.1 0-2 .9-2 2v14c0 1.1.9 2 2 2h14c1.1 0 2-.9 2-2V5c0-1.1-.9-2-2-2zM9 17H7v-7h2v7zm4 0h-2V7h2v10zm4 0h-2v-4h2v4z\"/>\n",
              "    </g>\n",
              "</svg>\n",
              "  </button>\n",
              "\n",
              "<style>\n",
              "  .colab-df-quickchart {\n",
              "      --bg-color: #E8F0FE;\n",
              "      --fill-color: #1967D2;\n",
              "      --hover-bg-color: #E2EBFA;\n",
              "      --hover-fill-color: #174EA6;\n",
              "      --disabled-fill-color: #AAA;\n",
              "      --disabled-bg-color: #DDD;\n",
              "  }\n",
              "\n",
              "  [theme=dark] .colab-df-quickchart {\n",
              "      --bg-color: #3B4455;\n",
              "      --fill-color: #D2E3FC;\n",
              "      --hover-bg-color: #434B5C;\n",
              "      --hover-fill-color: #FFFFFF;\n",
              "      --disabled-bg-color: #3B4455;\n",
              "      --disabled-fill-color: #666;\n",
              "  }\n",
              "\n",
              "  .colab-df-quickchart {\n",
              "    background-color: var(--bg-color);\n",
              "    border: none;\n",
              "    border-radius: 50%;\n",
              "    cursor: pointer;\n",
              "    display: none;\n",
              "    fill: var(--fill-color);\n",
              "    height: 32px;\n",
              "    padding: 0;\n",
              "    width: 32px;\n",
              "  }\n",
              "\n",
              "  .colab-df-quickchart:hover {\n",
              "    background-color: var(--hover-bg-color);\n",
              "    box-shadow: 0 1px 2px rgba(60, 64, 67, 0.3), 0 1px 3px 1px rgba(60, 64, 67, 0.15);\n",
              "    fill: var(--button-hover-fill-color);\n",
              "  }\n",
              "\n",
              "  .colab-df-quickchart-complete:disabled,\n",
              "  .colab-df-quickchart-complete:disabled:hover {\n",
              "    background-color: var(--disabled-bg-color);\n",
              "    fill: var(--disabled-fill-color);\n",
              "    box-shadow: none;\n",
              "  }\n",
              "\n",
              "  .colab-df-spinner {\n",
              "    border: 2px solid var(--fill-color);\n",
              "    border-color: transparent;\n",
              "    border-bottom-color: var(--fill-color);\n",
              "    animation:\n",
              "      spin 1s steps(1) infinite;\n",
              "  }\n",
              "\n",
              "  @keyframes spin {\n",
              "    0% {\n",
              "      border-color: transparent;\n",
              "      border-bottom-color: var(--fill-color);\n",
              "      border-left-color: var(--fill-color);\n",
              "    }\n",
              "    20% {\n",
              "      border-color: transparent;\n",
              "      border-left-color: var(--fill-color);\n",
              "      border-top-color: var(--fill-color);\n",
              "    }\n",
              "    30% {\n",
              "      border-color: transparent;\n",
              "      border-left-color: var(--fill-color);\n",
              "      border-top-color: var(--fill-color);\n",
              "      border-right-color: var(--fill-color);\n",
              "    }\n",
              "    40% {\n",
              "      border-color: transparent;\n",
              "      border-right-color: var(--fill-color);\n",
              "      border-top-color: var(--fill-color);\n",
              "    }\n",
              "    60% {\n",
              "      border-color: transparent;\n",
              "      border-right-color: var(--fill-color);\n",
              "    }\n",
              "    80% {\n",
              "      border-color: transparent;\n",
              "      border-right-color: var(--fill-color);\n",
              "      border-bottom-color: var(--fill-color);\n",
              "    }\n",
              "    90% {\n",
              "      border-color: transparent;\n",
              "      border-bottom-color: var(--fill-color);\n",
              "    }\n",
              "  }\n",
              "</style>\n",
              "\n",
              "  <script>\n",
              "    async function quickchart(key) {\n",
              "      const quickchartButtonEl =\n",
              "        document.querySelector('#' + key + ' button');\n",
              "      quickchartButtonEl.disabled = true;  // To prevent multiple clicks.\n",
              "      quickchartButtonEl.classList.add('colab-df-spinner');\n",
              "      try {\n",
              "        const charts = await google.colab.kernel.invokeFunction(\n",
              "            'suggestCharts', [key], {});\n",
              "      } catch (error) {\n",
              "        console.error('Error during call to suggestCharts:', error);\n",
              "      }\n",
              "      quickchartButtonEl.classList.remove('colab-df-spinner');\n",
              "      quickchartButtonEl.classList.add('colab-df-quickchart-complete');\n",
              "    }\n",
              "    (() => {\n",
              "      let quickchartButtonEl =\n",
              "        document.querySelector('#df-a0e3fd36-a0b9-47bb-bfd4-6ada9d05cf72 button');\n",
              "      quickchartButtonEl.style.display =\n",
              "        google.colab.kernel.accessAllowed ? 'block' : 'none';\n",
              "    })();\n",
              "  </script>\n",
              "</div>\n",
              "    </div>\n",
              "  </div>\n"
            ]
          },
          "metadata": {},
          "execution_count": 15
        }
      ]
    },
    {
      "cell_type": "code",
      "source": [
        "# Conteo de Valores Únicos: value_counts()\n",
        "\n",
        "# Conteo de valores únicos en una columna\n",
        "conteo_ciudades = df['Ciudad'].value_counts()\n",
        "print(\"Conteo de Ciudades:\")\n",
        "print(conteo_ciudades)"
      ],
      "metadata": {
        "colab": {
          "base_uri": "https://localhost:8080/"
        },
        "id": "XQsQytbfRQYH",
        "outputId": "6aba2bda-acdf-4816-bc7b-0dc2c50a2cc4"
      },
      "execution_count": null,
      "outputs": [
        {
          "output_type": "stream",
          "name": "stdout",
          "text": [
            "Conteo de Ciudades:\n",
            "Lima        3\n",
            "Trujillo    2\n",
            "Chiclayo    1\n",
            "Piura       1\n",
            "Ica         1\n",
            "Arequipa    1\n",
            "Huaraz      1\n",
            "Name: Ciudad, dtype: int64\n"
          ]
        }
      ]
    },
    {
      "cell_type": "code",
      "source": [
        "# Tratamiento de datos faltantes : isnull() y sum()\n",
        "\n",
        "# Verificar valores nulos y sumarlos por columna\n",
        "nulos_por_columna = df.isnull().sum()\n",
        "print(\"Valores nulos por columna:\")\n",
        "print(nulos_por_columna)\n"
      ],
      "metadata": {
        "colab": {
          "base_uri": "https://localhost:8080/"
        },
        "id": "RcsVYG-VSt_F",
        "outputId": "77506f84-aff8-4c09-c05c-9e47cd1d9094"
      },
      "execution_count": null,
      "outputs": [
        {
          "output_type": "stream",
          "name": "stdout",
          "text": [
            "Valores nulos por columna:\n",
            "Nombre    0\n",
            "Edad      0\n",
            "Ciudad    0\n",
            "dtype: int64\n"
          ]
        }
      ]
    },
    {
      "cell_type": "code",
      "source": [
        "# Agrupación y Agregación\n",
        "\n",
        "# Agrupar por ciudad y calcular la edad media\n",
        "edad_media_por_ciudad = df.groupby('Ciudad')['Edad'].mean()\n",
        "print(\"Edad media por Ciudad:\")\n",
        "print(edad_media_por_ciudad)\n"
      ],
      "metadata": {
        "colab": {
          "base_uri": "https://localhost:8080/"
        },
        "id": "37Xpjtr3TdSo",
        "outputId": "ef1deaf5-c7e4-44f8-f803-f0df0f1a41c1"
      },
      "execution_count": null,
      "outputs": [
        {
          "output_type": "stream",
          "name": "stdout",
          "text": [
            "Edad media por Ciudad:\n",
            "Ciudad\n",
            "Arequipa    32.000000\n",
            "Chiclayo    35.000000\n",
            "Huaraz      45.000000\n",
            "Ica         40.000000\n",
            "Lima        31.333333\n",
            "Piura       28.000000\n",
            "Trujillo    37.500000\n",
            "Name: Edad, dtype: float64\n"
          ]
        }
      ]
    },
    {
      "cell_type": "code",
      "source": [
        "# Visualización de Datos: Matplotlib y Seaborn\n",
        "import matplotlib.pyplot as plt\n",
        "import seaborn as sns\n",
        "\n",
        "# Histograma de edades\n",
        "sns.histplot(df['Edad'])\n",
        "plt.title('Histograma de Edades')\n",
        "plt.show()"
      ],
      "metadata": {
        "colab": {
          "base_uri": "https://localhost:8080/",
          "height": 472
        },
        "id": "14E1aQViUMuY",
        "outputId": "4e3a666e-7473-413e-f9f2-c102dc4a9b76"
      },
      "execution_count": null,
      "outputs": [
        {
          "output_type": "display_data",
          "data": {
            "text/plain": [
              "<Figure size 640x480 with 1 Axes>"
            ],
            "image/png": "[encoded data removed]"
          },
          "metadata": {}
        }
      ]
    },
    {
      "cell_type": "markdown",
      "source": [
        "# **Seleccion y Filtrado de Datos**"
      ],
      "metadata": {
        "id": "DCfjDSEmVjxS"
      }
    },
    {
      "cell_type": "code",
      "source": [
        "# Selección de Columnas\n",
        "import pandas as pd\n",
        "\n",
        "# Crear un DataFrame de ejemplo\n",
        "data = {'Nombre': ['Juan', 'Maria', 'Carlos','Jose','Felipe','Pablo','Nelsa','Susana','Karen','Vicente'],\n",
        "        'Edad': [25, 30, 35, 28, 40, 32,22,45,42,50],\n",
        "        'Ciudad': ['Trujillo', 'Lima', 'Chiclayo','Piura','Ica','Arequipa','Lima','Huaraz','Lima','Trujillo']}\n",
        "df = pd.DataFrame(data)\n",
        "\n",
        "# Seleccionar una columna\n",
        "columna_nombre = df['Nombre']\n",
        "\n",
        "# Seleccionar múltiples columnas\n",
        "columnas_edad_ciudad = df[['Edad', 'Ciudad']]\n",
        "\n",
        "# Mostrar los resultados\n",
        "print(\"Columna 'Nombre':\")\n",
        "print(columna_nombre)\n",
        "\n",
        "print(\"\\nColumnas 'Edad' y 'Ciudad':\")\n",
        "print(columnas_edad_ciudad)"
      ],
      "metadata": {
        "colab": {
          "base_uri": "https://localhost:8080/"
        },
        "id": "wIXc6aPtVwv1",
        "outputId": "2737622d-491e-434d-f581-b05bcc469cc8"
      },
      "execution_count": null,
      "outputs": [
        {
          "output_type": "stream",
          "name": "stdout",
          "text": [
            "Columna 'Nombre':\n",
            "0       Juan\n",
            "1      Maria\n",
            "2     Carlos\n",
            "3       Jose\n",
            "4     Felipe\n",
            "5      Pablo\n",
            "6      Nelsa\n",
            "7     Susana\n",
            "8      Karen\n",
            "9    Vicente\n",
            "Name: Nombre, dtype: object\n",
            "\n",
            "Columnas 'Edad' y 'Ciudad':\n",
            "   Edad    Ciudad\n",
            "0    25  Trujillo\n",
            "1    30      Lima\n",
            "2    35  Chiclayo\n",
            "3    28     Piura\n",
            "4    40       Ica\n",
            "5    32  Arequipa\n",
            "6    22      Lima\n",
            "7    45    Huaraz\n",
            "8    42      Lima\n",
            "9    50  Trujillo\n"
          ]
        }
      ]
    },
    {
      "cell_type": "code",
      "source": [
        "# Selección de filas por Índice:\n",
        "# Puedes seleccionar filas por índice utilizando el método loc.\n",
        "# df.loc[fila, columna] : Devuelve el elemento que se encuentra en la fila\n",
        "# con nombre fila y la columna de con nombre columna del DataFrame df.\n",
        "# df.loc[filas, columnas] : Devuelve un DataFrame con los elemento que se\n",
        "# encuentra en las filas con los nombres de la lista filas y\n",
        "# las columnas con los nombres de la lista columnas del DataFrame df.\n",
        "\n",
        "# Seleccionar fila por índice\n",
        "fila_Maria = df.loc[1]\n",
        "\n",
        "# Mostrar el resultado\n",
        "print(\"Fila correspondiente a Maria:\")\n",
        "print(fila_Maria)\n",
        "\n",
        "# fila 2\n",
        "print(\"Fila 2 con datos de Ciudad y Edad\")\n",
        "r = df.loc[2,[\"Ciudad\",\"Edad\"]]\n",
        "print(r)\n"
      ],
      "metadata": {
        "colab": {
          "base_uri": "https://localhost:8080/"
        },
        "id": "5UMqDMQeYVso",
        "outputId": "dfa0d64c-5a0c-4beb-d9cc-8ddbc05f4322"
      },
      "execution_count": null,
      "outputs": [
        {
          "output_type": "stream",
          "name": "stdout",
          "text": [
            "Fila correspondiente a Maria:\n",
            "Nombre    Maria\n",
            "Edad         30\n",
            "Ciudad     Lima\n",
            "Name: 1, dtype: object\n",
            "Ciudad    Chiclayo\n",
            "Edad            35\n",
            "Name: 2, dtype: object\n"
          ]
        }
      ]
    },
    {
      "cell_type": "code",
      "source": [
        "# Selección por Posición:\n",
        "# También puedes seleccionar filas por posición utilizando el método iloc.\n",
        "# El método iloc se utiliza en los DataFrames para seleccionar los elementos\n",
        "# en base a su ubicación.\n",
        "# Su sintaxis es data.iloc[<filas>, <columnas>],\n",
        "# donde <filas> y <columnas> son la posición de las filas y columnas que se\n",
        "# desean seleccionar en el orden que aparecen en el objeto\n",
        "# En iloc hay dos argumentos filas y columnas. En caso de que se omita\n",
        "#  el segundo, se seleccionarán todas las columnas de la fila.\n",
        "# Seleccionar fila por posición\n",
        "primera_fila = df.iloc[0]\n",
        "\n",
        "# Mostrar el resultado\n",
        "print(\"Primera fila:\")\n",
        "print(primera_fila)\n",
        "x= df.iloc[0:5] # Primeras cinco filas\n",
        "print(\"Primeras 5 filas\")\n",
        "print(x)\n",
        "y= df.iloc[:, 0:2] # Primeras dos columnas\n",
        "print(\"Primeras 2 columnas\")\n",
        "print(y)\n",
        "z= df.iloc[[0,2,1]]  # Primera, tercera y segunda filas\n",
        "print(\"Primera, tercer y segunda filas\")\n",
        "print(z)\n",
        "w=df.iloc[:, [0,2,1]]  # Primera, tercera y segunda columnas\n",
        "print(\"Primera, tercera y segunda columna\")\n",
        "print(w)\n"
      ],
      "metadata": {
        "colab": {
          "base_uri": "https://localhost:8080/"
        },
        "id": "7LnymS7XY0pG",
        "outputId": "ef84d221-b045-403c-e4e9-a111cdd4c1a2"
      },
      "execution_count": null,
      "outputs": [
        {
          "output_type": "stream",
          "name": "stdout",
          "text": [
            "Primera fila:\n",
            "Nombre        Juan\n",
            "Edad            25\n",
            "Ciudad    Trujillo\n",
            "Name: 0, dtype: object\n",
            "Primeras 5 filas\n",
            "   Nombre  Edad    Ciudad\n",
            "0    Juan    25  Trujillo\n",
            "1   Maria    30      Lima\n",
            "2  Carlos    35  Chiclayo\n",
            "3    Jose    28     Piura\n",
            "4  Felipe    40       Ica\n",
            "Primeras 2 columnas\n",
            "    Nombre  Edad\n",
            "0     Juan    25\n",
            "1    Maria    30\n",
            "2   Carlos    35\n",
            "3     Jose    28\n",
            "4   Felipe    40\n",
            "5    Pablo    32\n",
            "6    Nelsa    22\n",
            "7   Susana    45\n",
            "8    Karen    42\n",
            "9  Vicente    50\n",
            "Primera, tercer y segunda filas\n",
            "   Nombre  Edad    Ciudad\n",
            "0    Juan    25  Trujillo\n",
            "2  Carlos    35  Chiclayo\n",
            "1   Maria    30      Lima\n",
            "Primera, tercera y segunda columna\n",
            "    Nombre    Ciudad  Edad\n",
            "0     Juan  Trujillo    25\n",
            "1    Maria      Lima    30\n",
            "2   Carlos  Chiclayo    35\n",
            "3     Jose     Piura    28\n",
            "4   Felipe       Ica    40\n",
            "5    Pablo  Arequipa    32\n",
            "6    Nelsa      Lima    22\n",
            "7   Susana    Huaraz    45\n",
            "8    Karen      Lima    42\n",
            "9  Vicente  Trujillo    50\n"
          ]
        }
      ]
    },
    {
      "cell_type": "code",
      "source": [
        "# Filtrado por Condición:\n",
        "# Puedes filtrar filas basadas en una condición específica.\n",
        "# La condición crea una Serie de valores booleanos que luego\n",
        "# se utiliza para filtrar el DataFrame.\n",
        "# Filtrar por condición\n",
        "mayores_de_40 = df[df['Edad'] > 40]\n",
        "\n",
        "# Mostrar el resultado\n",
        "print(\"Personas mayores de 40:\")\n",
        "print(mayores_de_40)\n"
      ],
      "metadata": {
        "colab": {
          "base_uri": "https://localhost:8080/"
        },
        "id": "q3slkLHKXCiA",
        "outputId": "22f215db-fd3d-4132-8633-a862c45e7ef4"
      },
      "execution_count": null,
      "outputs": [
        {
          "output_type": "stream",
          "name": "stdout",
          "text": [
            "Personas mayores de 40:\n",
            "    Nombre  Edad    Ciudad\n",
            "7   Susana    45    Huaraz\n",
            "8    Karen    42      Lima\n",
            "9  Vicente    50  Trujillo\n"
          ]
        }
      ]
    },
    {
      "cell_type": "code",
      "source": [
        "# Combinación de Condiciones:\n",
        "# Puedes combinar múltiples condiciones utilizando\n",
        "# operadores lógicos como & (and) y | (or).\n",
        "\n",
        "# Filtrar por múltiples condiciones\n",
        "edad_ciudad_Lima = df[(df['Edad'] > 30) & (df['Ciudad'] == 'Lima')]\n",
        "\n",
        "# Mostrar el resultado\n",
        "print(\"Personas mayores de 30 en Ciudad 'Lima':\")\n",
        "print(edad_ciudad_Lima)"
      ],
      "metadata": {
        "colab": {
          "base_uri": "https://localhost:8080/"
        },
        "id": "9-lMb2ucXbco",
        "outputId": "774563fd-29cc-4ab2-b66f-10c57631a15e"
      },
      "execution_count": null,
      "outputs": [
        {
          "output_type": "stream",
          "name": "stdout",
          "text": [
            "Personas mayores de 30 en Ciudad 'Lima':\n",
            "  Nombre  Edad Ciudad\n",
            "8  Karen    42   Lima\n"
          ]
        }
      ]
    },
    {
      "cell_type": "code",
      "source": [
        "# Seleccionar rebanadas de filas\n",
        "filas_2_al_4 = df[2:5]\n",
        "\n",
        "#Mostrar Resultado\n",
        "print(\"Filas del 2 al 4\")\n",
        "print(filas_2_al_4)"
      ],
      "metadata": {
        "colab": {
          "base_uri": "https://localhost:8080/"
        },
        "id": "wRMXmdO7ZKyB",
        "outputId": "19bde112-556e-4d29-9215-2b63d3dd5d28"
      },
      "execution_count": null,
      "outputs": [
        {
          "output_type": "stream",
          "name": "stdout",
          "text": [
            "Filas del 2 al 4\n",
            "   Nombre  Edad    Ciudad\n",
            "2  Carlos    35  Chiclayo\n",
            "3    Jose    28     Piura\n",
            "4  Felipe    40       Ica\n"
          ]
        }
      ]
    },
    {
      "cell_type": "code",
      "source": [
        "# Seleccionar Celdas Específicas:\n",
        "# Puedes seleccionar celdas específicas utilizando combinaciones\n",
        "# de las técnicas anteriores.\n",
        "\n",
        "# Seleccionar una celda específica\n",
        "valor_Felipe = df.loc[4, 'Nombre']\n",
        "\n",
        "# Mostrar el resultado\n",
        "print(\"Valor correspondiente a Felipe en la columna 'Nombre':\")\n",
        "print(valor_Felipe)\n"
      ],
      "metadata": {
        "colab": {
          "base_uri": "https://localhost:8080/"
        },
        "id": "MXgvduYdaPX4",
        "outputId": "83726c60-efb0-47e4-d4ae-81b92f30ef57"
      },
      "execution_count": null,
      "outputs": [
        {
          "output_type": "stream",
          "name": "stdout",
          "text": [
            "Valor correspondiente a Felipe en la columna 'Nombre':\n",
            "Felipe\n"
          ]
        }
      ]
    },
    {
      "cell_type": "markdown",
      "source": [
        "# **Modificacion de datos en el DataFrame**"
      ],
      "metadata": {
        "id": "5Y9s1hkXTfod"
      }
    },
    {
      "cell_type": "code",
      "source": [
        "# Cambiar el valor de una celda:\n",
        "# Puedes cambiar el valor de una celda específica especificando\n",
        "# las etiquetas de fila y columna. Por ejemplo:\n",
        "import pandas as pd\n",
        "import numpy as np\n",
        "# Crear un DataFrame de ejemplo\n",
        "data = {'Nombre': ['Juan', 'Maria', 'Carlos','Jose','Felipe','Pablo','Nelsa','Susana','Karen','Vicente'],\n",
        "        'Edad': [25, 30, 35, 28, 40, 32,22,45,42,50],\n",
        "        'Ciudad': ['Trujillo', 'Lima', 'Chiclayo','Piura','Ica','Arequipa','Lima','Huaraz','Lima','Trujillo']}\n",
        "df = pd.DataFrame(data)\n",
        "\n",
        "# Modificar el valor en la fila 1, columna 'Edad'\n",
        "df.at[1, 'Edad'] = 31\n",
        "print(df)"
      ],
      "metadata": {
        "colab": {
          "base_uri": "https://localhost:8080/"
        },
        "id": "JCc4yU0JTlnv",
        "outputId": "049df50c-8e96-4afd-b428-8634443de09d"
      },
      "execution_count": null,
      "outputs": [
        {
          "output_type": "stream",
          "name": "stdout",
          "text": [
            "    Nombre  Edad    Ciudad\n",
            "0     Juan    25  Trujillo\n",
            "1    Maria    31      Lima\n",
            "2   Carlos    35  Chiclayo\n",
            "3     Jose    28     Piura\n",
            "4   Felipe    40       Ica\n",
            "5    Pablo    32  Arequipa\n",
            "6    Nelsa    22      Lima\n",
            "7   Susana    45    Huaraz\n",
            "8    Karen    42      Lima\n",
            "9  Vicente    50  Trujillo\n"
          ]
        }
      ]
    },
    {
      "cell_type": "code",
      "source": [
        "# Cambiar valores en una columna basándose en una condición:\n",
        "# Puedes usar una condición para modificar los valores en una columna específica.\n",
        "# Por ejemplo:\n",
        "# Incrementar la edad en 2 para todas las filas donde la ciudad sea 'Lima'\n",
        "df.loc[df['Ciudad'] == 'Lima', 'Edad'] += 2\n",
        "print(df)\n"
      ],
      "metadata": {
        "colab": {
          "base_uri": "https://localhost:8080/"
        },
        "id": "CUXsLnWzUpCL",
        "outputId": "338fd6e5-c5d3-467c-e163-cf6ec6745073"
      },
      "execution_count": null,
      "outputs": [
        {
          "output_type": "stream",
          "name": "stdout",
          "text": [
            "    Nombre  Edad    Ciudad\n",
            "0     Juan    25  Trujillo\n",
            "1    Maria    33      Lima\n",
            "2   Carlos    35  Chiclayo\n",
            "3     Jose    28     Piura\n",
            "4   Felipe    40       Ica\n",
            "5    Pablo    32  Arequipa\n",
            "6    Nelsa    24      Lima\n",
            "7   Susana    45    Huaraz\n",
            "8    Karen    44      Lima\n",
            "9  Vicente    50  Trujillo\n"
          ]
        }
      ]
    },
    {
      "cell_type": "code",
      "source": [
        "#Añadir una nueva columna:\n",
        "# Puedes añadir una nueva columna y asignar valores a todas las filas.\n",
        "# Por ejemplo:\n",
        "\n",
        "# Añadir una nueva columna 'Altura' con valores predeterminados\n",
        "df['Altura'] = [170, 160, 175,168,172,165,173,175,180,172]\n",
        "\n",
        "print(df)"
      ],
      "metadata": {
        "colab": {
          "base_uri": "https://localhost:8080/"
        },
        "id": "uQeoc3Y-VfFo",
        "outputId": "f10615a0-fa47-4d5f-edb4-1db79f7ab6e1"
      },
      "execution_count": null,
      "outputs": [
        {
          "output_type": "stream",
          "name": "stdout",
          "text": [
            "    Nombre  Edad    Ciudad  Altura\n",
            "0     Juan    25  Trujillo     170\n",
            "1    Maria    33      Lima     160\n",
            "2   Carlos    35  Chiclayo     175\n",
            "3     Jose    28     Piura     168\n",
            "4   Felipe    40       Ica     172\n",
            "5    Pablo    32  Arequipa     165\n",
            "6    Nelsa    24      Lima     173\n",
            "7   Susana    45    Huaraz     175\n",
            "8    Karen    44      Lima     180\n",
            "9  Vicente    50  Trujillo     172\n"
          ]
        }
      ]
    },
    {
      "cell_type": "code",
      "source": [
        "# 4. Aplicar una función a una columna:\n",
        "# Puedes aplicar una función a una columna existente para modificar\n",
        "# sus valores. Por ejemplo:\n",
        "\n",
        "# Duplicar los valores en la columna 'Edad'\n",
        "df['Edad'] = df['Edad'].apply(lambda x: x * 2)\n",
        "\n",
        "print(df)"
      ],
      "metadata": {
        "colab": {
          "base_uri": "https://localhost:8080/"
        },
        "id": "nqmzJJ4WWn2T",
        "outputId": "2e8bf815-3703-427a-e2ef-4d6e26cb2544"
      },
      "execution_count": null,
      "outputs": [
        {
          "output_type": "stream",
          "name": "stdout",
          "text": [
            "    Nombre  Edad    Ciudad  Altura\n",
            "0     Juan    50  Trujillo     170\n",
            "1    Maria    66      Lima     160\n",
            "2   Carlos    70  Chiclayo     175\n",
            "3     Jose    56     Piura     168\n",
            "4   Felipe    80       Ica     172\n",
            "5    Pablo    64  Arequipa     165\n",
            "6    Nelsa    48      Lima     173\n",
            "7   Susana    90    Huaraz     175\n",
            "8    Karen    88      Lima     180\n",
            "9  Vicente   100  Trujillo     172\n"
          ]
        }
      ]
    },
    {
      "cell_type": "markdown",
      "source": [
        "# **Agrupacion y Agregacion de Datos**\n",
        "\n",
        "\n",
        "**Agrupación de Datos:**\n",
        "La agrupación implica dividir el DataFrame en grupos basados en algún criterio específico, como los valores en una columna. Para realizar la agrupación, puedes utilizar el método groupby() de Pandas.\n",
        "\n",
        "**Agregación de Datos:**\n",
        "\n",
        "Después de la agrupación, puedes aplicar funciones de agregación para resumir los datos en cada grupo. Algunas funciones de agregación comunes incluyen sum(), mean(), count(), max(), min(), entre otras. Puedes aplicar estas funciones directamente al objeto DataFrameGroupBy"
      ],
      "metadata": {
        "id": "wsHBwwCQYNVu"
      }
    },
    {
      "cell_type": "code",
      "source": [
        "import pandas as pd\n",
        "\n",
        "# Crear un DataFrame de ejemplo\n",
        "data = {'Categoria': ['A', 'B', 'A', 'B', 'A', 'B'],\n",
        "        'Valor': [10, 20, 30, 40, 50, 60]}\n",
        "\n",
        "df = pd.DataFrame(data)\n",
        "\n",
        "# Agrupar por la columna 'Categoria' y calcular la suma de cada categoria\n",
        "suma_grupo_categoria = df.groupby('Categoria')['Valor'].sum()\n",
        "print(\"Suma de Valor de cada categoria\")\n",
        "print(suma_grupo_categoria)\n",
        "media_grupo_categoria=df.groupby('Categoria')['Valor'].mean()\n",
        "print('Media de Valor de cada categoria')\n",
        "print(media_grupo_categoria)"
      ],
      "metadata": {
        "colab": {
          "base_uri": "https://localhost:8080/"
        },
        "id": "W_0kC6XCYYpV",
        "outputId": "709106da-5963-4cdc-e725-1c5b9f899a82"
      },
      "execution_count": null,
      "outputs": [
        {
          "output_type": "stream",
          "name": "stdout",
          "text": [
            "Suma de Valor de cada categoria\n",
            "Categoria\n",
            "A     90\n",
            "B    120\n",
            "Name: Valor, dtype: int64\n",
            "Media de Valor de cada categoria\n",
            "Categoria\n",
            "A    30.0\n",
            "B    40.0\n",
            "Name: Valor, dtype: float64\n"
          ]
        }
      ]
    },
    {
      "cell_type": "markdown",
      "source": [
        "**Múltiples Columnas y Funciones de Agregación:**\n",
        "Puedes agrupar por múltiples columnas y aplicar múltiples funciones de agregación a la vez. Por ejemplo:"
      ],
      "metadata": {
        "id": "V_uIeLwootot"
      }
    },
    {
      "cell_type": "code",
      "source": [
        "# Agrupar por 'Categoria' y calcular la suma y la media de 'Valor'\n",
        "resultados = df.groupby('Categoria')['Valor'].agg(['sum', 'mean'])\n",
        "\n",
        "print(resultados)"
      ],
      "metadata": {
        "colab": {
          "base_uri": "https://localhost:8080/"
        },
        "id": "Gy76B42Yoihe",
        "outputId": "5614be12-66cd-4fd7-d096-f2fdd5d513dd"
      },
      "execution_count": null,
      "outputs": [
        {
          "output_type": "stream",
          "name": "stdout",
          "text": [
            "           sum  mean\n",
            "Categoria           \n",
            "A           90  30.0\n",
            "B          120  40.0\n"
          ]
        }
      ]
    },
    {
      "cell_type": "markdown",
      "source": [
        "# **Manejo de datos faltantes**\n",
        "\n",
        "El manejo de datos faltantes o nulos es crucial al trabajar con DataFrames en Pandas, ya que los conjuntos de datos reales a menudo contienen valores ausentes. Pandas proporciona varias funciones y métodos para tratar con datos faltantes"
      ],
      "metadata": {
        "id": "45VYrh-qqcBM"
      }
    },
    {
      "cell_type": "markdown",
      "source": [
        "**1) Identificación de Datos Faltantes:**\n",
        "\n",
        "Puedes usar métodos como isnull() o info() para identificar los valores nulos en un DataFrame:"
      ],
      "metadata": {
        "id": "hemzfurbq9nN"
      }
    },
    {
      "cell_type": "code",
      "source": [
        "import pandas as pd\n",
        "import numpy as np\n",
        "\n",
        "# Crear un DataFrame de ejemplo con valores nulos\n",
        "data = {'A': [1, 2, np.nan, 4],\n",
        "        'B': [5, np.nan, 7, 8],\n",
        "        'C': [9, 10, 11, 12]}\n",
        "\n",
        "df = pd.DataFrame(data)\n",
        "\n",
        "# Identificar valores nulos\n",
        "print(df.isnull())"
      ],
      "metadata": {
        "colab": {
          "base_uri": "https://localhost:8080/"
        },
        "id": "prZbDONMqr1Y",
        "outputId": "a4a52be9-8a73-4a76-b0f9-35b2bdc00b7d"
      },
      "execution_count": null,
      "outputs": [
        {
          "output_type": "stream",
          "name": "stdout",
          "text": [
            "       A      B      C\n",
            "0  False  False  False\n",
            "1  False   True  False\n",
            "2   True  False  False\n",
            "3  False  False  False\n"
          ]
        }
      ]
    },
    {
      "cell_type": "markdown",
      "source": [
        "**2) Eliminación de Filas o Columnas con Datos Faltantes:**\n",
        "\n",
        "Puedes eliminar filas o columnas que contengan valores nulos utilizando los métodos dropna()"
      ],
      "metadata": {
        "id": "V7udeqM_s_Jf"
      }
    },
    {
      "cell_type": "code",
      "source": [
        "print(\"Data frame original\")\n",
        "print(df)\n",
        "\n",
        "# Eliminar filas con al menos un valor nulo\n",
        "df_sin_nulos_filas = df.dropna()\n",
        "\n",
        "# Eliminar columnas con al menos un valor nulo\n",
        "df_sin_nulos_columnas = df.dropna(axis=1)\n",
        "\n",
        "print(\"Data frame  sin nulos en las filas\")\n",
        "print(df_sin_nulos_filas)\n",
        "print(\"Data frame sin nulos en las columnas\")\n",
        "print(df_sin_nulos_columnas)"
      ],
      "metadata": {
        "colab": {
          "base_uri": "https://localhost:8080/"
        },
        "id": "Pn7gMWU8tPfF",
        "outputId": "49e0c299-46f4-4596-8bf9-5a7541a5ceaf"
      },
      "execution_count": null,
      "outputs": [
        {
          "output_type": "stream",
          "name": "stdout",
          "text": [
            "Data frame original\n",
            "     A    B   C\n",
            "0  1.0  5.0   9\n",
            "1  2.0  NaN  10\n",
            "2  NaN  7.0  11\n",
            "3  4.0  8.0  12\n",
            "Data frame  sin nulos en las filas\n",
            "     A    B   C\n",
            "0  1.0  5.0   9\n",
            "3  4.0  8.0  12\n",
            "Data frame sin nulos en las columnas\n",
            "    C\n",
            "0   9\n",
            "1  10\n",
            "2  11\n",
            "3  12\n"
          ]
        }
      ]
    },
    {
      "cell_type": "markdown",
      "source": [
        "**3) Rellenar Valores Faltantes:**\n",
        "\n",
        "Puedes utilizar el método fillna() para rellenar valores faltantes con un valor específico:"
      ],
      "metadata": {
        "id": "XXga0eGpuSKE"
      }
    },
    {
      "cell_type": "code",
      "source": [
        "print(\"Dataframe original\")\n",
        "print(df)\n",
        "\n",
        "# Rellenar valores nulos con el promedio de cada columna\n",
        "df_rellenado = df.fillna(df.mean())\n",
        "print(\"Data frame que se relleno con el promedio de cada columna\")\n",
        "print(df_rellenado)"
      ],
      "metadata": {
        "colab": {
          "base_uri": "https://localhost:8080/"
        },
        "id": "vihHL4fCuxMw",
        "outputId": "1d335fba-c0fa-407c-9fb1-e157497344bf"
      },
      "execution_count": null,
      "outputs": [
        {
          "output_type": "stream",
          "name": "stdout",
          "text": [
            "Dataframe original\n",
            "     A    B   C\n",
            "0  1.0  5.0   9\n",
            "1  2.0  NaN  10\n",
            "2  NaN  7.0  11\n",
            "3  4.0  8.0  12\n",
            "Data frame que se relleno con el promedio de cada columna\n",
            "          A         B   C\n",
            "0  1.000000  5.000000   9\n",
            "1  2.000000  6.666667  10\n",
            "2  2.333333  7.000000  11\n",
            "3  4.000000  8.000000  12\n"
          ]
        }
      ]
    },
    {
      "cell_type": "markdown",
      "source": [
        "**4) Interpolación de Datos Faltantes:**\n",
        "\n",
        "La interpolación es útil para estimar valores faltantes en función de los valores existentes:"
      ],
      "metadata": {
        "id": "Nknb-gyHwL2x"
      }
    },
    {
      "cell_type": "code",
      "source": [
        "print(\"Dataframe original\")\n",
        "print(df)\n",
        "\n",
        "# Interpolar valores nulos\n",
        "df_interpolado = df.interpolate()\n",
        "print(\"Dataframe interpolado\")\n",
        "print(df_interpolado)"
      ],
      "metadata": {
        "colab": {
          "base_uri": "https://localhost:8080/"
        },
        "id": "juXzO8aowIn0",
        "outputId": "6ed2c840-4e3d-42e6-f5b3-416ef6f49ad8"
      },
      "execution_count": null,
      "outputs": [
        {
          "output_type": "stream",
          "name": "stdout",
          "text": [
            "Dataframe original\n",
            "     A    B   C\n",
            "0  1.0  5.0   9\n",
            "1  2.0  NaN  10\n",
            "2  NaN  7.0  11\n",
            "3  4.0  8.0  12\n",
            "Dataframe interpolado\n",
            "     A    B   C\n",
            "0  1.0  5.0   9\n",
            "1  2.0  6.0  10\n",
            "2  3.0  7.0  11\n",
            "3  4.0  8.0  12\n"
          ]
        }
      ]
    },
    {
      "cell_type": "markdown",
      "source": [
        "**5) Imputación de Datos Faltantes:**\n",
        "\n",
        "Puedes utilizar métodos más avanzados, como la imputación, para predecir y rellenar valores faltantes basándote en otros valores presentes:"
      ],
      "metadata": {
        "id": "4vfT0KpvznvM"
      }
    },
    {
      "cell_type": "code",
      "source": [
        "from sklearn.impute import SimpleImputer\n",
        "\n",
        "print(\"Dataframe original\")\n",
        "print(df)\n",
        "\n",
        "# Imputar valores nulos utilizando la media\n",
        "imputer = SimpleImputer(strategy='mean')\n",
        "df_imputado = pd.DataFrame(imputer.fit_transform(df), columns=df.columns)\n",
        "print(\"Dataframe imputado\")\n",
        "print(df_imputado)"
      ],
      "metadata": {
        "colab": {
          "base_uri": "https://localhost:8080/"
        },
        "id": "Z8y7dTP-zmGL",
        "outputId": "dd180417-8347-4cd6-d702-c7131dcded5f"
      },
      "execution_count": null,
      "outputs": [
        {
          "output_type": "stream",
          "name": "stdout",
          "text": [
            "Dataframe original\n",
            "     A    B   C\n",
            "0  1.0  5.0   9\n",
            "1  2.0  NaN  10\n",
            "2  NaN  7.0  11\n",
            "3  4.0  8.0  12\n",
            "Dataframe imputado\n",
            "          A         B     C\n",
            "0  1.000000  5.000000   9.0\n",
            "1  2.000000  6.666667  10.0\n",
            "2  2.333333  7.000000  11.0\n",
            "3  4.000000  8.000000  12.0\n"
          ]
        }
      ]
    },
    {
      "cell_type": "markdown",
      "source": [
        "**6) Máscara de Valores Faltantes:**\n",
        "\n",
        "Puedes crear una máscara booleana para identificar y trabajar con valores nulos de manera más personalizada:"
      ],
      "metadata": {
        "id": "hMVX-qQL0ZMC"
      }
    },
    {
      "cell_type": "code",
      "source": [
        "# Crear una máscara booleana para valores nulos\n",
        "mask = df.isnull()\n",
        "\n",
        "# Utilizar la máscara para realizar operaciones específicas\n",
        "df[mask] = 0  # Por ejemplo, reemplazar valores nulos con cero\n",
        "\n",
        "print(df)"
      ],
      "metadata": {
        "colab": {
          "base_uri": "https://localhost:8080/"
        },
        "id": "4HAuFZso0nYK",
        "outputId": "84fba4bc-bf1b-4562-cd39-4a5a8f7e8041"
      },
      "execution_count": null,
      "outputs": [
        {
          "output_type": "stream",
          "name": "stdout",
          "text": [
            "     A    B   C\n",
            "0  1.0  5.0   9\n",
            "1  2.0  0.0  10\n",
            "2  0.0  7.0  11\n",
            "3  4.0  8.0  12\n"
          ]
        }
      ]
    },
    {
      "cell_type": "markdown",
      "source": [
        "# **Combinacion de Dataframes**\n",
        "\n",
        "La combinación de DataFrames en Pandas es una operación fundamental cuando trabajas con múltiples conjuntos de datos. Pandas proporciona varias funciones para combinar DataFrames, y la elección de la función depende del tipo de combinación que necesitas realizar."
      ],
      "metadata": {
        "id": "EncDPP8p1uzd"
      }
    },
    {
      "cell_type": "markdown",
      "source": [
        "**1)  Concatenación**\n",
        "\n",
        "La concatenación se utiliza para unir DataFrames a lo largo de un eje específico (ya sea filas o columnas). Puedes usar la función concat() de Pandas para realizar esta operación."
      ],
      "metadata": {
        "id": "tYiodPUP2AkC"
      }
    },
    {
      "cell_type": "code",
      "source": [
        "# Concatenacion de filas\n",
        "\n",
        "import pandas as pd\n",
        "\n",
        "df1 = pd.DataFrame({'A': ['A0', 'A1'], 'B': ['B0', 'B1']})\n",
        "print(\"Data frame 1\")\n",
        "print(df1)\n",
        "df2 = pd.DataFrame({'A': ['A2', 'A3'], 'B': ['B2', 'B3']})\n",
        "print(\"Data frame 2\")\n",
        "print(df2)\n",
        "# Concatenar a lo largo de las filas\n",
        "result_concat_rows = pd.concat([df1, df2])\n",
        "print(\"Data frame concatenado\")\n",
        "print(result_concat_rows)\n"
      ],
      "metadata": {
        "colab": {
          "base_uri": "https://localhost:8080/"
        },
        "id": "wVE8DRC517I1",
        "outputId": "fa1180a9-3f7e-4f83-d9db-41856a272e73"
      },
      "execution_count": null,
      "outputs": [
        {
          "output_type": "stream",
          "name": "stdout",
          "text": [
            "Data frame 1\n",
            "    A   B\n",
            "0  A0  B0\n",
            "1  A1  B1\n",
            "Data frame 2\n",
            "    A   B\n",
            "0  A2  B2\n",
            "1  A3  B3\n",
            "Data frame concatenado\n",
            "    A   B\n",
            "0  A0  B0\n",
            "1  A1  B1\n",
            "0  A2  B2\n",
            "1  A3  B3\n"
          ]
        }
      ]
    },
    {
      "cell_type": "code",
      "source": [
        "# Concatenacion de Columnas\n",
        "df1 = pd.DataFrame({'A': ['A0', 'A1'], 'B': ['B0', 'B1']})\n",
        "print(\"Data frame 1\")\n",
        "print(df1)\n",
        "df2 = pd.DataFrame({'A': ['A2', 'A3'], 'B': ['B2', 'B3']})\n",
        "print(\"Data frame 2\")\n",
        "print(df2)\n",
        "# Concatenar a lo largo de las columnas\n",
        "result_concat_columns = pd.concat([df1, df2], axis=1)\n",
        "print(\"Data frame con columnas concatenadas\")\n",
        "print(result_concat_columns)\n",
        "print(result_concat_columns)"
      ],
      "metadata": {
        "colab": {
          "base_uri": "https://localhost:8080/"
        },
        "id": "BcUclJ-y3kLH",
        "outputId": "e567804e-e172-48b0-d8bc-28615317e054"
      },
      "execution_count": null,
      "outputs": [
        {
          "output_type": "stream",
          "name": "stdout",
          "text": [
            "Data frame 1\n",
            "    A   B\n",
            "0  A0  B0\n",
            "1  A1  B1\n",
            "Data frame 2\n",
            "    A   B\n",
            "0  A2  B2\n",
            "1  A3  B3\n",
            "Data frame con columnas concatenadas\n",
            "    A   B   A   B\n",
            "0  A0  B0  A2  B2\n",
            "1  A1  B1  A3  B3\n",
            "Index(['A', 'B', 'A', 'B'], dtype='object')\n"
          ]
        }
      ]
    },
    {
      "cell_type": "markdown",
      "source": [
        "**2) Combinación por Filas o Columnas (Merge):**\n",
        "\n",
        "La combinación es útil cuando deseas combinar DataFrames basándote en una columna común. Puedes usar la función merge() para realizar esta operación."
      ],
      "metadata": {
        "id": "hnpzqUAY46GZ"
      }
    },
    {
      "cell_type": "code",
      "source": [
        "# Crear dos DataFrames de ejemplo con una columna común 'clave'\n",
        "df1 = pd.DataFrame({'clave': ['K0', 'K1'], 'A': ['A0', 'A1'], 'B': ['B0', 'B1']})\n",
        "print(\"Primer dataFrame\")\n",
        "print(df1)\n",
        "df2 = pd.DataFrame({'clave': ['K1', 'K2'], 'C': ['C1', 'C2'], 'D': ['D1', 'D2']})\n",
        "print(\"Segundo dataFrame\")\n",
        "print(df2)\n",
        "# Combinar DataFrames basándote en la columna 'clave'\n",
        "result_merge = pd.merge(df1, df2, on='clave')\n",
        "print(\"Data frame combinado\")\n",
        "print(result_merge)"
      ],
      "metadata": {
        "colab": {
          "base_uri": "https://localhost:8080/"
        },
        "id": "8X7YJ4dv5UFd",
        "outputId": "f2851f28-0683-4a61-ec95-e06e424d371f"
      },
      "execution_count": null,
      "outputs": [
        {
          "output_type": "stream",
          "name": "stdout",
          "text": [
            "Primer dataFrame\n",
            "  clave   A   B\n",
            "0    K0  A0  B0\n",
            "1    K1  A1  B1\n",
            "Segundo dataFrame\n",
            "  clave   C   D\n",
            "0    K1  C1  D1\n",
            "1    K2  C2  D2\n",
            "Data frame combinado\n",
            "  clave   A   B   C   D\n",
            "0    K1  A1  B1  C1  D1\n"
          ]
        }
      ]
    },
    {
      "cell_type": "markdown",
      "source": [
        "**3) Combinación por Índices:**\n",
        "\n",
        "Puedes combinar DataFrames basándote en sus índices utilizando las funciones merge() o join()."
      ],
      "metadata": {
        "id": "RPTqo5x76JI9"
      }
    },
    {
      "cell_type": "code",
      "source": [
        "# Crear dos DataFrames de ejemplo con índices\n",
        "df1 = pd.DataFrame({'A': ['A0', 'A1'], 'B': ['B0', 'B1']}, index=['K0', 'K1'])\n",
        "print(\"Primer dataFrame\")\n",
        "print(df1)\n",
        "df2 = pd.DataFrame({'C': ['C1', 'C2'], 'D': ['D1', 'D2']}, index=['K1', 'K2'])\n",
        "print(\"Segundo dataFrame\")\n",
        "print(df2)\n",
        "# Combinar DataFrames basándote en los índices\n",
        "result_merge_index = pd.merge(df1, df2, left_index=True, right_index=True)\n",
        "# También puedes usar df1.join(df2)\n",
        "print(\"data frame merged\")\n",
        "print(result_merge_index)"
      ],
      "metadata": {
        "colab": {
          "base_uri": "https://localhost:8080/"
        },
        "id": "oP0NAwDN6TG3",
        "outputId": "21866abb-37c1-45c8-ddd0-011122abe797"
      },
      "execution_count": null,
      "outputs": [
        {
          "output_type": "stream",
          "name": "stdout",
          "text": [
            "Primer dataFrame\n",
            "     A   B\n",
            "K0  A0  B0\n",
            "K1  A1  B1\n",
            "Segundo dataFrame\n",
            "     C   D\n",
            "K1  C1  D1\n",
            "K2  C2  D2\n",
            "data frame merged\n",
            "     A   B   C   D\n",
            "K1  A1  B1  C1  D1\n"
          ]
        }
      ]
    },
    {
      "cell_type": "markdown",
      "source": [
        "# **Visualizacion de datos**\n",
        "\n",
        "La visualización de datos es una parte crucial del análisis de datos. Pandas proporciona métodos integrados que permiten realizar visualizaciones básicas de los datos contenidos en un DataFrame. Además, Pandas se integra bien con la biblioteca de visualización de datos más popular en Python, Matplotlib."
      ],
      "metadata": {
        "id": "DmW6N4b47Ip_"
      }
    },
    {
      "cell_type": "markdown",
      "source": [
        "**1) Visualización Básica con Pandas:**\n",
        "\n",
        "Pandas tiene métodos integrados para visualizar datos. Puedes utilizar el método plot() para crear gráficos básicos directamente desde un DataFrame.\n"
      ],
      "metadata": {
        "id": "TseIzbAT7eJG"
      }
    },
    {
      "cell_type": "code",
      "source": [
        "# Ejemplo de Gráfico de Líneas:\n",
        "import pandas as pd\n",
        "import matplotlib.pyplot as plt\n",
        "\n",
        "# Crear un DataFrame de ejemplo\n",
        "data = {'A': [1, 2, 3, 4, 5],\n",
        "        'B': [5, 4, 3, 2, 1]}\n",
        "\n",
        "df = pd.DataFrame(data)\n",
        "print(df)\n",
        "\n",
        "# Graficar un gráfico de líneas\n",
        "df.plot(x='A', y='B', kind='line')\n",
        "plt.show()"
      ],
      "metadata": {
        "colab": {
          "base_uri": "https://localhost:8080/",
          "height": 553
        },
        "id": "q5Cj0nGB7pLf",
        "outputId": "35ffab38-70cd-4f2c-e83e-6da85eafdc94"
      },
      "execution_count": null,
      "outputs": [
        {
          "output_type": "stream",
          "name": "stdout",
          "text": [
            "   A  B\n",
            "0  1  5\n",
            "1  2  4\n",
            "2  3  3\n",
            "3  4  2\n",
            "4  5  1\n"
          ]
        },
        {
          "output_type": "display_data",
          "data": {
            "text/plain": [
              "<Figure size 640x480 with 1 Axes>"
            ],
            "image/png": "[encoded data removed]"
          },
          "metadata": {}
        }
      ]
    },
    {
      "cell_type": "code",
      "source": [
        "# Graficar un gráfico de barras\n",
        "df.plot(x='A', y='B', kind='bar')\n",
        "plt.show()"
      ],
      "metadata": {
        "colab": {
          "base_uri": "https://localhost:8080/",
          "height": 444
        },
        "id": "Xy8Mabev8FUY",
        "outputId": "2d84b6bb-640e-43e3-abf4-0ec27f96a9bb"
      },
      "execution_count": null,
      "outputs": [
        {
          "output_type": "display_data",
          "data": {
            "text/plain": [
              "<Figure size 640x480 with 1 Axes>"
            ],
            "image/png": "[encoded data removed]"
          },
          "metadata": {}
        }
      ]
    },
    {
      "cell_type": "markdown",
      "source": [
        "**2) Personalización con Matplotlib:**\n",
        "\n",
        "Puedes utilizar Matplotlib para personalizar aún más tus gráficos. El método plot() de Pandas devuelve un objeto de la clase AxesSubplot, que puedes manipular con funciones de Matplotlib."
      ],
      "metadata": {
        "id": "HiNiMItm8UpH"
      }
    },
    {
      "cell_type": "code",
      "source": [
        "# Personalizar un gráfico de líneas con Matplotlib\n",
        "ax = df.plot(x='A', y='B', kind='line')\n",
        "ax.set(title='Gráfico de Líneas', xlabel='Eje X', ylabel='Eje Y')\n",
        "plt.show()"
      ],
      "metadata": {
        "colab": {
          "base_uri": "https://localhost:8080/",
          "height": 472
        },
        "id": "nKR3t-GR8wTf",
        "outputId": "84f4b574-2ee3-44e6-9442-595314ebabc6"
      },
      "execution_count": null,
      "outputs": [
        {
          "output_type": "display_data",
          "data": {
            "text/plain": [
              "<Figure size 640x480 with 1 Axes>"
            ],
            "image/png": "[encoded data removed]"
          },
          "metadata": {}
        }
      ]
    },
    {
      "cell_type": "markdown",
      "source": [
        "**3) Gráficos de Dispersión y Matrices de Correlación:**\n",
        "\n",
        "Puedes usar el método scatter_matrix() para visualizar gráficos de dispersión y matrices de correlación."
      ],
      "metadata": {
        "id": "p56uz7WK9Dvn"
      }
    },
    {
      "cell_type": "code",
      "source": [
        "from pandas.plotting import scatter_matrix\n",
        "\n",
        "# Crear un DataFrame de ejemplo\n",
        "data = {'A': [1, 2, 3, 4, 5],\n",
        "        'B': [5, 4, 3, 2, 1],\n",
        "        'C': [2, 3, 2, 4, 1]}\n",
        "\n",
        "df = pd.DataFrame(data)\n",
        "\n",
        "# Graficar matriz de dispersión\n",
        "scatter_matrix(df, alpha=0.8, figsize=(8, 8), diagonal='hist')\n",
        "plt.show()"
      ],
      "metadata": {
        "colab": {
          "base_uri": "https://localhost:8080/",
          "height": 689
        },
        "id": "dnhm7DKO9Icf",
        "outputId": "ccca196f-0b0e-4c42-e624-6a031b31e7a5"
      },
      "execution_count": null,
      "outputs": [
        {
          "output_type": "display_data",
          "data": {
            "text/plain": [
              "<Figure size 800x800 with 9 Axes>"
            ],
            "image/png": "[encoded data removed]"
          },
          "metadata": {}
        }
      ]
    },
    {
      "cell_type": "markdown",
      "source": [
        "**4) Gráficos de Caja y Bigotes:**\n",
        "\n",
        "Puedes usar el método boxplot() para visualizar gráficos de caja y bigotes."
      ],
      "metadata": {
        "id": "0DyDaiIa9gDa"
      }
    },
    {
      "cell_type": "code",
      "source": [
        "# Graficar un gráfico de caja y bigotes\n",
        "df.boxplot()\n",
        "plt.show()"
      ],
      "metadata": {
        "colab": {
          "base_uri": "https://localhost:8080/",
          "height": 430
        },
        "id": "7RyVBML59lv-",
        "outputId": "53f2865d-17eb-4f4f-e08e-0fc5464d1864"
      },
      "execution_count": null,
      "outputs": [
        {
          "output_type": "display_data",
          "data": {
            "text/plain": [
              "<Figure size 640x480 with 1 Axes>"
            ],
            "image/png": "[encoded data removed]"
          },
          "metadata": {}
        }
      ]
    },
    {
      "cell_type": "markdown",
      "source": [
        "**5)  Mapas de Calor:**\n",
        "\n",
        "Puedes utilizar mapas de calor para visualizar la distribución de valores en un DataFrame."
      ],
      "metadata": {
        "id": "w5sdaX7L9zP6"
      }
    },
    {
      "cell_type": "code",
      "source": [
        "# Crear un DataFrame de ejemplo\n",
        "data = {'A': [1, 2, 3, 4, 5],\n",
        "        'B': [5, 4, 3, 2, 1],\n",
        "        'C': [2, 3, 2, 4, 1]}\n",
        "\n",
        "df = pd.DataFrame(data)\n",
        "\n",
        "# Graficar un mapa de calor\n",
        "plt.imshow(df, cmap='viridis', aspect='auto')\n",
        "plt.colorbar()\n",
        "plt.show()"
      ],
      "metadata": {
        "id": "WN4Q46jB96bn",
        "outputId": "6fd166cb-1f0e-4136-870d-2f3499db51c4",
        "colab": {
          "base_uri": "https://localhost:8080/",
          "height": 435
        }
      },
      "execution_count": null,
      "outputs": [
        {
          "output_type": "display_data",
          "data": {
            "text/plain": [
              "<Figure size 640x480 with 2 Axes>"
            ],
            "image/png": "[encoded data removed]"
          },
          "metadata": {}
        }
      ]
    }
  ]
}